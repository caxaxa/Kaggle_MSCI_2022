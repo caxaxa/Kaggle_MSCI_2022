{
 "cells": [
  {
   "cell_type": "markdown",
   "id": "794a94d6",
   "metadata": {
    "papermill": {
     "duration": 0.01182,
     "end_time": "2022-10-27T01:53:15.249471",
     "exception": false,
     "start_time": "2022-10-27T01:53:15.237651",
     "status": "completed"
    },
    "tags": []
   },
   "source": [
    "# **🥈This Notebook now rank 15 in LB!**\n",
    "+ I used `TruncatedSVD(n_components=128, random_state=42)` both on train and test data.\n",
    "+ CatBoostRegressor is used. To save time， only trained on fold_0. Maybe more fold will help to impore score.\n",
    "+ This notebook is based on [FABIEN CROM](https://www.kaggle.com/code/fabiencrom/msci-multiome-quickstart-w-sparse-matrices). Please Upvoted if help !\n",
    "+ Version_1 is a quick submission and version_2_3 show the training process."
   ]
  },
  {
   "cell_type": "code",
   "execution_count": 1,
   "id": "cd1f4396",
   "metadata": {
    "_kg_hide-input": true,
    "execution": {
     "iopub.execute_input": "2022-10-27T01:53:15.275025Z",
     "iopub.status.busy": "2022-10-27T01:53:15.273940Z",
     "iopub.status.idle": "2022-10-27T01:53:16.741146Z",
     "shell.execute_reply": "2022-10-27T01:53:16.740126Z"
    },
    "papermill": {
     "duration": 1.483036,
     "end_time": "2022-10-27T01:53:16.743902",
     "exception": false,
     "start_time": "2022-10-27T01:53:15.260866",
     "status": "completed"
    },
    "tags": []
   },
   "outputs": [],
   "source": [
    "import os, gc, pickle\n",
    "import pandas as pd\n",
    "import matplotlib.pyplot as plt\n",
    "import numpy as np\n",
    "from colorama import Fore, Back, Style\n",
    "from matplotlib.ticker import MaxNLocator\n",
    "\n",
    "from sklearn.base import BaseEstimator, TransformerMixin\n",
    "from sklearn.model_selection import KFold\n",
    "from sklearn.preprocessing import StandardScaler, scale\n",
    "from sklearn.decomposition import PCA, TruncatedSVD\n",
    "from sklearn.dummy import DummyRegressor\n",
    "from sklearn.pipeline import make_pipeline, Pipeline\n",
    "from sklearn.linear_model import Ridge, LinearRegression, Lasso\n",
    "from sklearn.metrics import mean_squared_error\n",
    "\n",
    "import scipy\n",
    "import scipy.sparse\n",
    "\n",
    "import gc\n",
    "import pickle\n",
    "import warnings\n",
    "warnings.filterwarnings('ignore')"
   ]
  },
  {
   "cell_type": "code",
   "execution_count": 2,
   "id": "4e8d9eb1",
   "metadata": {
    "execution": {
     "iopub.execute_input": "2022-10-27T01:53:16.767105Z",
     "iopub.status.busy": "2022-10-27T01:53:16.765903Z",
     "iopub.status.idle": "2022-10-27T01:53:16.774257Z",
     "shell.execute_reply": "2022-10-27T01:53:16.772896Z"
    },
    "jupyter": {
     "source_hidden": true
    },
    "papermill": {
     "duration": 0.022703,
     "end_time": "2022-10-27T01:53:16.776987",
     "exception": false,
     "start_time": "2022-10-27T01:53:16.754284",
     "status": "completed"
    },
    "tags": []
   },
   "outputs": [],
   "source": [
    "def correlation_score(y_true, y_pred):\n",
    "    \"\"\"Scores the predictions according to the competition rules. \n",
    "    \n",
    "    It is assumed that the predictions are not constant.\n",
    "    \n",
    "    Returns the average of each sample's Pearson correlation coefficient\"\"\"\n",
    "    if type(y_true) == pd.DataFrame: y_true = y_true.values\n",
    "    if type(y_pred) == pd.DataFrame: y_pred = y_pred.values\n",
    "    if y_true.shape != y_pred.shape: raise ValueError(\"Shapes are different.\")\n",
    "    corrsum = 0\n",
    "    for i in range(len(y_true)):\n",
    "        corrsum += np.corrcoef(y_true[i], y_pred[i])[1, 0]\n",
    "    return corrsum / len(y_true)\n"
   ]
  },
  {
   "cell_type": "markdown",
   "id": "81cb0432",
   "metadata": {
    "papermill": {
     "duration": 0.010441,
     "end_time": "2022-10-27T01:53:16.797811",
     "exception": false,
     "start_time": "2022-10-27T01:53:16.787370",
     "status": "completed"
    },
    "tags": []
   },
   "source": [
    "# Preprocessing and cross-validation\n",
    "\n",
    "We first load all of the training input data for Multiome. It should take less than a minute."
   ]
  },
  {
   "cell_type": "code",
   "execution_count": 3,
   "id": "fd9e06e5",
   "metadata": {
    "execution": {
     "iopub.execute_input": "2022-10-27T01:53:16.822865Z",
     "iopub.status.busy": "2022-10-27T01:53:16.821899Z",
     "iopub.status.idle": "2022-10-27T01:54:21.421329Z",
     "shell.execute_reply": "2022-10-27T01:54:21.420057Z"
    },
    "papermill": {
     "duration": 64.624809,
     "end_time": "2022-10-27T01:54:21.434172",
     "exception": false,
     "start_time": "2022-10-27T01:53:16.809363",
     "status": "completed"
    },
    "tags": []
   },
   "outputs": [
    {
     "name": "stdout",
     "output_type": "stream",
     "text": [
      "CPU times: user 36.5 s, sys: 3.68 s, total: 40.1 s\n",
      "Wall time: 1min 4s\n"
     ]
    }
   ],
   "source": [
    "%%time\n",
    "train_inputs = scipy.sparse.load_npz(\"../input/multimodal-single-cell-as-sparse-matrix/train_multi_inputs_values.sparse.npz\")"
   ]
  },
  {
   "cell_type": "code",
   "execution_count": 4,
   "id": "ed76f1d1",
   "metadata": {
    "execution": {
     "iopub.execute_input": "2022-10-27T01:54:21.457752Z",
     "iopub.status.busy": "2022-10-27T01:54:21.457296Z",
     "iopub.status.idle": "2022-10-27T01:54:25.595240Z",
     "shell.execute_reply": "2022-10-27T01:54:25.593967Z"
    },
    "papermill": {
     "duration": 4.153419,
     "end_time": "2022-10-27T01:54:25.598110",
     "exception": false,
     "start_time": "2022-10-27T01:54:21.444691",
     "status": "completed"
    },
    "tags": []
   },
   "outputs": [],
   "source": [
    "train_inputs = train_inputs.astype('float16', copy=False)"
   ]
  },
  {
   "cell_type": "markdown",
   "id": "9984c18b",
   "metadata": {
    "papermill": {
     "duration": 0.010149,
     "end_time": "2022-10-27T01:54:25.618984",
     "exception": false,
     "start_time": "2022-10-27T01:54:25.608835",
     "status": "completed"
    },
    "tags": []
   },
   "source": [
    "## PCA / TruncatedSVD\n",
    "It is not possible to directly apply PCA to a sparse matrix, because PCA has to first \"center\" the data, which destroys the sparsity. This is why we apply `TruncatedSVD` instead (which is pretty much \"PCA without centering\"). It might be better to normalize the data a bit more here, but we will keep it simple."
   ]
  },
  {
   "cell_type": "code",
   "execution_count": 5,
   "id": "f6d06bcb",
   "metadata": {
    "execution": {
     "iopub.execute_input": "2022-10-27T01:54:25.641437Z",
     "iopub.status.busy": "2022-10-27T01:54:25.640979Z",
     "iopub.status.idle": "2022-10-27T02:18:46.453525Z",
     "shell.execute_reply": "2022-10-27T02:18:46.451731Z"
    },
    "papermill": {
     "duration": 1460.834988,
     "end_time": "2022-10-27T02:18:46.464438",
     "exception": false,
     "start_time": "2022-10-27T01:54:25.629450",
     "status": "completed"
    },
    "tags": []
   },
   "outputs": [
    {
     "name": "stdout",
     "output_type": "stream",
     "text": [
      "0.010997659\n",
      "CPU times: user 24min 22s, sys: 19.3 s, total: 24min 41s\n",
      "Wall time: 24min 20s\n"
     ]
    }
   ],
   "source": [
    "%%time\n",
    "pca = TruncatedSVD(n_components=128, random_state=42)\n",
    "train_inputs = pca.fit_transform(train_inputs)\n",
    "print(pca.explained_variance_ratio_.sum())"
   ]
  },
  {
   "cell_type": "code",
   "execution_count": 6,
   "id": "4272230e",
   "metadata": {
    "execution": {
     "iopub.execute_input": "2022-10-27T02:18:46.488712Z",
     "iopub.status.busy": "2022-10-27T02:18:46.488284Z",
     "iopub.status.idle": "2022-10-27T02:19:11.655505Z",
     "shell.execute_reply": "2022-10-27T02:19:11.654128Z"
    },
    "papermill": {
     "duration": 25.182999,
     "end_time": "2022-10-27T02:19:11.658145",
     "exception": false,
     "start_time": "2022-10-27T02:18:46.475146",
     "status": "completed"
    },
    "tags": []
   },
   "outputs": [
    {
     "name": "stdout",
     "output_type": "stream",
     "text": [
      "CPU times: user 16.6 s, sys: 1.24 s, total: 17.9 s\n",
      "Wall time: 25.2 s\n"
     ]
    }
   ],
   "source": [
    "%%time\n",
    "train_targets = scipy.sparse.load_npz(\"../input/multimodal-single-cell-as-sparse-matrix/train_multi_targets_values.sparse.npz\")"
   ]
  },
  {
   "cell_type": "code",
   "execution_count": 7,
   "id": "3cea4ed9",
   "metadata": {
    "execution": {
     "iopub.execute_input": "2022-10-27T02:19:11.682267Z",
     "iopub.status.busy": "2022-10-27T02:19:11.681834Z",
     "iopub.status.idle": "2022-10-27T02:25:15.285076Z",
     "shell.execute_reply": "2022-10-27T02:25:15.283416Z"
    },
    "papermill": {
     "duration": 363.628563,
     "end_time": "2022-10-27T02:25:15.298029",
     "exception": false,
     "start_time": "2022-10-27T02:19:11.669466",
     "status": "completed"
    },
    "tags": []
   },
   "outputs": [
    {
     "name": "stdout",
     "output_type": "stream",
     "text": [
      "0.11779101\n",
      "CPU times: user 6min 6s, sys: 5.56 s, total: 6min 11s\n",
      "Wall time: 6min 3s\n"
     ]
    }
   ],
   "source": [
    "%%time\n",
    "pca2 = TruncatedSVD(n_components=128, random_state=42)\n",
    "train_target = pca2.fit_transform(train_targets)\n",
    "print(pca2.explained_variance_ratio_.sum())"
   ]
  },
  {
   "cell_type": "code",
   "execution_count": 8,
   "id": "95507b0c",
   "metadata": {
    "execution": {
     "iopub.execute_input": "2022-10-27T02:25:15.321760Z",
     "iopub.status.busy": "2022-10-27T02:25:15.321351Z",
     "iopub.status.idle": "2022-10-27T02:25:15.327160Z",
     "shell.execute_reply": "2022-10-27T02:25:15.325681Z"
    },
    "papermill": {
     "duration": 0.020619,
     "end_time": "2022-10-27T02:25:15.329711",
     "exception": false,
     "start_time": "2022-10-27T02:25:15.309092",
     "status": "completed"
    },
    "tags": []
   },
   "outputs": [],
   "source": [
    "def save(name, model):\n",
    "    with open(name, 'wb') as f:\n",
    "        pickle.dump(model, f)"
   ]
  },
  {
   "cell_type": "code",
   "execution_count": 9,
   "id": "3fa6065c",
   "metadata": {
    "execution": {
     "iopub.execute_input": "2022-10-27T02:25:15.354308Z",
     "iopub.status.busy": "2022-10-27T02:25:15.353876Z",
     "iopub.status.idle": "2022-10-27T02:25:16.197194Z",
     "shell.execute_reply": "2022-10-27T02:25:16.195906Z"
    },
    "papermill": {
     "duration": 0.858994,
     "end_time": "2022-10-27T02:25:16.200267",
     "exception": false,
     "start_time": "2022-10-27T02:25:15.341273",
     "status": "completed"
    },
    "tags": []
   },
   "outputs": [],
   "source": [
    "save('pca.pkl', pca)\n",
    "save('pca2.pkl', pca2)"
   ]
  },
  {
   "cell_type": "code",
   "execution_count": 10,
   "id": "320af1f9",
   "metadata": {
    "execution": {
     "iopub.execute_input": "2022-10-27T02:25:16.223608Z",
     "iopub.status.busy": "2022-10-27T02:25:16.223135Z",
     "iopub.status.idle": "2022-10-27T02:25:16.783680Z",
     "shell.execute_reply": "2022-10-27T02:25:16.782296Z"
    },
    "papermill": {
     "duration": 0.575099,
     "end_time": "2022-10-27T02:25:16.786304",
     "exception": false,
     "start_time": "2022-10-27T02:25:16.211205",
     "status": "completed"
    },
    "tags": []
   },
   "outputs": [],
   "source": [
    "from catboost import CatBoostRegressor\n",
    "params = {'learning_rate': 0.1, \n",
    "          'depth': 7, \n",
    "          'l2_leaf_reg': 4, \n",
    "          'loss_function': 'MultiRMSE', \n",
    "          'eval_metric': 'MultiRMSE', \n",
    "          'task_type': 'CPU', \n",
    "          'iterations': 200,\n",
    "          'od_type': 'Iter', \n",
    "          'boosting_type': 'Plain', \n",
    "          'bootstrap_type': 'Bayesian', \n",
    "          'allow_const_label': True, \n",
    "          'random_state': 1\n",
    "         }\n",
    "model = CatBoostRegressor(**params)"
   ]
  },
  {
   "cell_type": "code",
   "execution_count": 11,
   "id": "a63c96b4",
   "metadata": {
    "execution": {
     "iopub.execute_input": "2022-10-27T02:25:16.809672Z",
     "iopub.status.busy": "2022-10-27T02:25:16.809182Z",
     "iopub.status.idle": "2022-10-27T02:25:16.814641Z",
     "shell.execute_reply": "2022-10-27T02:25:16.813362Z"
    },
    "papermill": {
     "duration": 0.020755,
     "end_time": "2022-10-27T02:25:16.817735",
     "exception": false,
     "start_time": "2022-10-27T02:25:16.796980",
     "status": "completed"
    },
    "tags": []
   },
   "outputs": [],
   "source": [
    "n = 1"
   ]
  },
  {
   "cell_type": "code",
   "execution_count": 12,
   "id": "6d33091a",
   "metadata": {
    "execution": {
     "iopub.execute_input": "2022-10-27T02:25:16.842028Z",
     "iopub.status.busy": "2022-10-27T02:25:16.841328Z",
     "iopub.status.idle": "2022-10-27T08:02:16.507438Z",
     "shell.execute_reply": "2022-10-27T08:02:16.505410Z"
    },
    "papermill": {
     "duration": 20219.68241,
     "end_time": "2022-10-27T08:02:16.510973",
     "exception": false,
     "start_time": "2022-10-27T02:25:16.828563",
     "status": "completed"
    },
    "tags": []
   },
   "outputs": [
    {
     "name": "stdout",
     "output_type": "stream",
     "text": [
      "start [0:105942]\n",
      "Train...\n",
      "0:\tlearn: 74.4837457\ttotal: 20.4s\tremaining: 1h 7m 45s\n",
      "1:\tlearn: 72.3356217\ttotal: 40.3s\tremaining: 1h 6m 28s\n",
      "2:\tlearn: 70.4881701\ttotal: 1m\tremaining: 1h 6m\n",
      "3:\tlearn: 68.7941270\ttotal: 1m 20s\tremaining: 1h 5m 36s\n",
      "4:\tlearn: 67.3404626\ttotal: 1m 40s\tremaining: 1h 5m\n",
      "5:\tlearn: 65.9576768\ttotal: 2m\tremaining: 1h 4m 50s\n",
      "6:\tlearn: 64.7607744\ttotal: 2m 20s\tremaining: 1h 4m 27s\n",
      "7:\tlearn: 63.7088748\ttotal: 2m 40s\tremaining: 1h 4m 1s\n",
      "8:\tlearn: 62.7753348\ttotal: 3m\tremaining: 1h 3m 46s\n",
      "9:\tlearn: 61.9206851\ttotal: 3m 20s\tremaining: 1h 3m 25s\n",
      "10:\tlearn: 61.2032398\ttotal: 3m 52s\tremaining: 1h 6m 33s\n",
      "11:\tlearn: 60.5609569\ttotal: 4m 13s\tremaining: 1h 6m 6s\n",
      "12:\tlearn: 59.9598257\ttotal: 4m 33s\tremaining: 1h 5m 32s\n",
      "13:\tlearn: 59.4175905\ttotal: 4m 53s\tremaining: 1h 4m 53s\n",
      "14:\tlearn: 58.9458298\ttotal: 5m 13s\tremaining: 1h 4m 22s\n",
      "15:\tlearn: 58.5225515\ttotal: 5m 32s\tremaining: 1h 3m 48s\n",
      "16:\tlearn: 58.0944311\ttotal: 5m 52s\tremaining: 1h 3m 16s\n",
      "17:\tlearn: 57.7122787\ttotal: 6m 12s\tremaining: 1h 2m 48s\n",
      "18:\tlearn: 57.3654892\ttotal: 6m 32s\tremaining: 1h 2m 20s\n",
      "19:\tlearn: 57.0391729\ttotal: 6m 52s\tremaining: 1h 1m 48s\n",
      "20:\tlearn: 56.7137294\ttotal: 7m 12s\tremaining: 1h 1m 22s\n",
      "21:\tlearn: 56.3992445\ttotal: 7m 31s\tremaining: 1h 54s\n",
      "22:\tlearn: 56.1234598\ttotal: 7m 51s\tremaining: 1h 29s\n",
      "23:\tlearn: 55.8653499\ttotal: 8m 11s\tremaining: 1h 3s\n",
      "24:\tlearn: 55.6226720\ttotal: 8m 30s\tremaining: 59m 36s\n",
      "25:\tlearn: 55.3993583\ttotal: 8m 50s\tremaining: 59m 13s\n",
      "26:\tlearn: 55.1457219\ttotal: 9m 10s\tremaining: 58m 50s\n",
      "27:\tlearn: 54.9604600\ttotal: 9m 30s\tremaining: 58m 25s\n",
      "28:\tlearn: 54.7440588\ttotal: 9m 50s\tremaining: 58m 2s\n",
      "29:\tlearn: 54.5455042\ttotal: 10m 10s\tremaining: 57m 38s\n",
      "30:\tlearn: 54.3516981\ttotal: 10m 30s\tremaining: 57m 17s\n",
      "31:\tlearn: 54.1926285\ttotal: 10m 50s\tremaining: 56m 54s\n",
      "32:\tlearn: 54.0353799\ttotal: 11m 10s\tremaining: 56m 31s\n",
      "33:\tlearn: 53.8800557\ttotal: 11m 30s\tremaining: 56m 9s\n",
      "34:\tlearn: 53.7214697\ttotal: 11m 50s\tremaining: 55m 48s\n",
      "35:\tlearn: 53.5725521\ttotal: 12m 10s\tremaining: 55m 26s\n",
      "36:\tlearn: 53.4398657\ttotal: 12m 30s\tremaining: 55m 4s\n",
      "37:\tlearn: 53.2887294\ttotal: 12m 49s\tremaining: 54m 41s\n",
      "38:\tlearn: 53.1535519\ttotal: 13m 9s\tremaining: 54m 20s\n",
      "39:\tlearn: 53.0323379\ttotal: 13m 29s\tremaining: 53m 59s\n",
      "40:\tlearn: 52.9001417\ttotal: 13m 49s\tremaining: 53m 37s\n",
      "41:\tlearn: 52.7792501\ttotal: 14m 9s\tremaining: 53m 16s\n",
      "42:\tlearn: 52.6545774\ttotal: 14m 29s\tremaining: 52m 55s\n",
      "43:\tlearn: 52.5601229\ttotal: 14m 49s\tremaining: 52m 33s\n",
      "44:\tlearn: 52.4591052\ttotal: 15m 9s\tremaining: 52m 12s\n",
      "45:\tlearn: 52.3598754\ttotal: 15m 29s\tremaining: 51m 50s\n",
      "46:\tlearn: 52.2701920\ttotal: 15m 49s\tremaining: 51m 29s\n",
      "47:\tlearn: 52.1649959\ttotal: 16m 9s\tremaining: 51m 10s\n",
      "48:\tlearn: 52.0838991\ttotal: 16m 29s\tremaining: 50m 48s\n",
      "49:\tlearn: 52.0066033\ttotal: 16m 48s\tremaining: 50m 26s\n",
      "50:\tlearn: 51.9143023\ttotal: 17m 8s\tremaining: 50m 5s\n",
      "51:\tlearn: 51.8270541\ttotal: 17m 28s\tremaining: 49m 44s\n",
      "52:\tlearn: 51.7558858\ttotal: 17m 48s\tremaining: 49m 23s\n",
      "53:\tlearn: 51.6549393\ttotal: 18m 8s\tremaining: 49m 3s\n",
      "54:\tlearn: 51.5870739\ttotal: 18m 28s\tremaining: 48m 42s\n",
      "55:\tlearn: 51.5152618\ttotal: 18m 48s\tremaining: 48m 21s\n",
      "56:\tlearn: 51.4617387\ttotal: 19m 7s\tremaining: 47m 59s\n",
      "57:\tlearn: 51.3845228\ttotal: 19m 27s\tremaining: 47m 38s\n",
      "58:\tlearn: 51.3105636\ttotal: 19m 47s\tremaining: 47m 17s\n",
      "59:\tlearn: 51.2468306\ttotal: 20m 7s\tremaining: 46m 56s\n",
      "60:\tlearn: 51.1855562\ttotal: 20m 27s\tremaining: 46m 36s\n",
      "61:\tlearn: 51.1204721\ttotal: 20m 46s\tremaining: 46m 14s\n",
      "62:\tlearn: 51.0625565\ttotal: 21m 6s\tremaining: 45m 54s\n",
      "63:\tlearn: 51.0077159\ttotal: 21m 26s\tremaining: 45m 34s\n",
      "64:\tlearn: 50.9590568\ttotal: 21m 46s\tremaining: 45m 13s\n",
      "65:\tlearn: 50.9090933\ttotal: 22m 6s\tremaining: 44m 53s\n",
      "66:\tlearn: 50.8436671\ttotal: 22m 26s\tremaining: 44m 32s\n",
      "67:\tlearn: 50.7849819\ttotal: 22m 46s\tremaining: 44m 12s\n",
      "68:\tlearn: 50.7315055\ttotal: 23m 5s\tremaining: 43m 51s\n",
      "69:\tlearn: 50.6862604\ttotal: 23m 25s\tremaining: 43m 29s\n",
      "70:\tlearn: 50.6224054\ttotal: 23m 45s\tremaining: 43m 9s\n",
      "71:\tlearn: 50.5640755\ttotal: 24m 5s\tremaining: 42m 49s\n",
      "72:\tlearn: 50.5147938\ttotal: 24m 25s\tremaining: 42m 28s\n",
      "73:\tlearn: 50.4828040\ttotal: 24m 44s\tremaining: 42m 8s\n",
      "74:\tlearn: 50.4248653\ttotal: 25m 4s\tremaining: 41m 48s\n",
      "75:\tlearn: 50.3732292\ttotal: 25m 24s\tremaining: 41m 27s\n",
      "76:\tlearn: 50.3200513\ttotal: 25m 44s\tremaining: 41m 7s\n",
      "77:\tlearn: 50.2749957\ttotal: 26m 4s\tremaining: 40m 46s\n",
      "78:\tlearn: 50.2331275\ttotal: 26m 24s\tremaining: 40m 26s\n",
      "79:\tlearn: 50.1977680\ttotal: 26m 44s\tremaining: 40m 6s\n",
      "80:\tlearn: 50.1546637\ttotal: 27m 4s\tremaining: 39m 46s\n",
      "81:\tlearn: 50.1137653\ttotal: 27m 24s\tremaining: 39m 25s\n",
      "82:\tlearn: 50.0804640\ttotal: 27m 43s\tremaining: 39m 5s\n",
      "83:\tlearn: 50.0509272\ttotal: 28m 3s\tremaining: 38m 44s\n",
      "84:\tlearn: 50.0071896\ttotal: 28m 23s\tremaining: 38m 24s\n",
      "85:\tlearn: 49.9676511\ttotal: 28m 42s\tremaining: 38m 3s\n",
      "86:\tlearn: 49.9260034\ttotal: 29m 3s\tremaining: 37m 43s\n",
      "87:\tlearn: 49.8965758\ttotal: 29m 23s\tremaining: 37m 24s\n",
      "88:\tlearn: 49.8539682\ttotal: 29m 42s\tremaining: 37m 3s\n",
      "89:\tlearn: 49.8306137\ttotal: 30m 3s\tremaining: 36m 43s\n",
      "90:\tlearn: 49.7846075\ttotal: 30m 22s\tremaining: 36m 23s\n",
      "91:\tlearn: 49.7566029\ttotal: 30m 42s\tremaining: 36m 3s\n",
      "92:\tlearn: 49.7216803\ttotal: 31m 2s\tremaining: 35m 43s\n",
      "93:\tlearn: 49.6894842\ttotal: 31m 22s\tremaining: 35m 22s\n",
      "94:\tlearn: 49.6607454\ttotal: 31m 42s\tremaining: 35m 2s\n",
      "95:\tlearn: 49.6249888\ttotal: 32m 2s\tremaining: 34m 42s\n",
      "96:\tlearn: 49.5878837\ttotal: 32m 21s\tremaining: 34m 21s\n",
      "97:\tlearn: 49.5625962\ttotal: 32m 41s\tremaining: 34m 2s\n",
      "98:\tlearn: 49.5426275\ttotal: 33m 1s\tremaining: 33m 41s\n",
      "99:\tlearn: 49.5124923\ttotal: 33m 21s\tremaining: 33m 21s\n",
      "100:\tlearn: 49.4854044\ttotal: 33m 40s\tremaining: 33m\n",
      "101:\tlearn: 49.4533416\ttotal: 34m\tremaining: 32m 40s\n",
      "102:\tlearn: 49.4309899\ttotal: 34m 20s\tremaining: 32m 20s\n",
      "103:\tlearn: 49.4008205\ttotal: 34m 39s\tremaining: 31m 59s\n",
      "104:\tlearn: 49.3778113\ttotal: 34m 59s\tremaining: 31m 39s\n",
      "105:\tlearn: 49.3406795\ttotal: 35m 19s\tremaining: 31m 19s\n",
      "106:\tlearn: 49.3104114\ttotal: 35m 39s\tremaining: 30m 59s\n",
      "107:\tlearn: 49.2814579\ttotal: 35m 58s\tremaining: 30m 39s\n",
      "108:\tlearn: 49.2576469\ttotal: 36m 18s\tremaining: 30m 18s\n",
      "109:\tlearn: 49.2262340\ttotal: 36m 38s\tremaining: 29m 58s\n",
      "110:\tlearn: 49.1948675\ttotal: 36m 58s\tremaining: 29m 38s\n",
      "111:\tlearn: 49.1696928\ttotal: 37m 17s\tremaining: 29m 18s\n",
      "112:\tlearn: 49.1505630\ttotal: 37m 37s\tremaining: 28m 57s\n",
      "113:\tlearn: 49.1260649\ttotal: 37m 57s\tremaining: 28m 37s\n",
      "114:\tlearn: 49.1035579\ttotal: 38m 16s\tremaining: 28m 17s\n",
      "115:\tlearn: 49.0821949\ttotal: 38m 36s\tremaining: 27m 57s\n",
      "116:\tlearn: 49.0566604\ttotal: 38m 56s\tremaining: 27m 37s\n",
      "117:\tlearn: 49.0367314\ttotal: 39m 15s\tremaining: 27m 17s\n",
      "118:\tlearn: 49.0103640\ttotal: 39m 35s\tremaining: 26m 57s\n",
      "119:\tlearn: 48.9907125\ttotal: 39m 55s\tremaining: 26m 37s\n",
      "120:\tlearn: 48.9627297\ttotal: 40m 15s\tremaining: 26m 17s\n",
      "121:\tlearn: 48.9396815\ttotal: 40m 35s\tremaining: 25m 57s\n",
      "122:\tlearn: 48.9054307\ttotal: 40m 55s\tremaining: 25m 37s\n",
      "123:\tlearn: 48.8836579\ttotal: 41m 15s\tremaining: 25m 17s\n",
      "124:\tlearn: 48.8601517\ttotal: 41m 35s\tremaining: 24m 57s\n",
      "125:\tlearn: 48.8326844\ttotal: 41m 55s\tremaining: 24m 37s\n",
      "126:\tlearn: 48.8060896\ttotal: 42m 15s\tremaining: 24m 17s\n",
      "127:\tlearn: 48.7856534\ttotal: 42m 35s\tremaining: 23m 57s\n",
      "128:\tlearn: 48.7600446\ttotal: 42m 54s\tremaining: 23m 37s\n",
      "129:\tlearn: 48.7391318\ttotal: 43m 14s\tremaining: 23m 17s\n",
      "130:\tlearn: 48.7212935\ttotal: 43m 33s\tremaining: 22m 56s\n",
      "131:\tlearn: 48.6990005\ttotal: 43m 54s\tremaining: 22m 37s\n",
      "132:\tlearn: 48.6747527\ttotal: 44m 14s\tremaining: 22m 17s\n",
      "133:\tlearn: 48.6483906\ttotal: 44m 34s\tremaining: 21m 57s\n",
      "134:\tlearn: 48.6284597\ttotal: 44m 54s\tremaining: 21m 37s\n",
      "135:\tlearn: 48.6029749\ttotal: 45m 14s\tremaining: 21m 17s\n",
      "136:\tlearn: 48.5830028\ttotal: 45m 34s\tremaining: 20m 57s\n",
      "137:\tlearn: 48.5616819\ttotal: 45m 54s\tremaining: 20m 37s\n",
      "138:\tlearn: 48.5417106\ttotal: 46m 15s\tremaining: 20m 17s\n",
      "139:\tlearn: 48.5140897\ttotal: 46m 35s\tremaining: 19m 58s\n",
      "140:\tlearn: 48.4951768\ttotal: 46m 55s\tremaining: 19m 38s\n",
      "141:\tlearn: 48.4708102\ttotal: 47m 15s\tremaining: 19m 18s\n",
      "142:\tlearn: 48.4453031\ttotal: 47m 36s\tremaining: 18m 58s\n",
      "143:\tlearn: 48.4233730\ttotal: 47m 56s\tremaining: 18m 38s\n",
      "144:\tlearn: 48.3986447\ttotal: 48m 16s\tremaining: 18m 18s\n",
      "145:\tlearn: 48.3772304\ttotal: 48m 36s\tremaining: 17m 58s\n",
      "146:\tlearn: 48.3603318\ttotal: 48m 56s\tremaining: 17m 38s\n",
      "147:\tlearn: 48.3386332\ttotal: 49m 16s\tremaining: 17m 18s\n",
      "148:\tlearn: 48.3194496\ttotal: 49m 37s\tremaining: 16m 59s\n",
      "149:\tlearn: 48.3000358\ttotal: 49m 57s\tremaining: 16m 39s\n",
      "150:\tlearn: 48.2848978\ttotal: 50m 17s\tremaining: 16m 19s\n",
      "151:\tlearn: 48.2678686\ttotal: 50m 37s\tremaining: 15m 59s\n",
      "152:\tlearn: 48.2493743\ttotal: 50m 57s\tremaining: 15m 39s\n",
      "153:\tlearn: 48.2246475\ttotal: 51m 18s\tremaining: 15m 19s\n",
      "154:\tlearn: 48.2075618\ttotal: 51m 38s\tremaining: 14m 59s\n",
      "155:\tlearn: 48.1821185\ttotal: 51m 58s\tremaining: 14m 39s\n",
      "156:\tlearn: 48.1638049\ttotal: 52m 18s\tremaining: 14m 19s\n",
      "157:\tlearn: 48.1488339\ttotal: 52m 38s\tremaining: 13m 59s\n",
      "158:\tlearn: 48.1345692\ttotal: 52m 58s\tremaining: 13m 39s\n",
      "159:\tlearn: 48.1129135\ttotal: 53m 18s\tremaining: 13m 19s\n",
      "160:\tlearn: 48.0966869\ttotal: 53m 38s\tremaining: 12m 59s\n",
      "161:\tlearn: 48.0810305\ttotal: 53m 58s\tremaining: 12m 39s\n",
      "162:\tlearn: 48.0621780\ttotal: 54m 18s\tremaining: 12m 19s\n",
      "163:\tlearn: 48.0481114\ttotal: 54m 38s\tremaining: 11m 59s\n",
      "164:\tlearn: 48.0325291\ttotal: 54m 58s\tremaining: 11m 39s\n",
      "165:\tlearn: 48.0191011\ttotal: 55m 18s\tremaining: 11m 19s\n",
      "166:\tlearn: 48.0021405\ttotal: 55m 38s\tremaining: 10m 59s\n",
      "167:\tlearn: 47.9924669\ttotal: 55m 58s\tremaining: 10m 39s\n",
      "168:\tlearn: 47.9783385\ttotal: 56m 18s\tremaining: 10m 19s\n",
      "169:\tlearn: 47.9624688\ttotal: 56m 38s\tremaining: 9m 59s\n",
      "170:\tlearn: 47.9488189\ttotal: 56m 59s\tremaining: 9m 39s\n",
      "171:\tlearn: 47.9306811\ttotal: 57m 19s\tremaining: 9m 19s\n",
      "172:\tlearn: 47.9166707\ttotal: 57m 39s\tremaining: 8m 59s\n",
      "173:\tlearn: 47.8999721\ttotal: 57m 59s\tremaining: 8m 39s\n",
      "174:\tlearn: 47.8832371\ttotal: 58m 18s\tremaining: 8m 19s\n",
      "175:\tlearn: 47.8714362\ttotal: 58m 38s\tremaining: 7m 59s\n",
      "176:\tlearn: 47.8585467\ttotal: 58m 58s\tremaining: 7m 39s\n",
      "177:\tlearn: 47.8389528\ttotal: 59m 18s\tremaining: 7m 19s\n",
      "178:\tlearn: 47.8276938\ttotal: 59m 38s\tremaining: 6m 59s\n",
      "179:\tlearn: 47.8104727\ttotal: 59m 58s\tremaining: 6m 39s\n",
      "180:\tlearn: 47.7967793\ttotal: 1h 18s\tremaining: 6m 19s\n",
      "181:\tlearn: 47.7842667\ttotal: 1h 38s\tremaining: 5m 59s\n",
      "182:\tlearn: 47.7718239\ttotal: 1h 58s\tremaining: 5m 39s\n",
      "183:\tlearn: 47.7578656\ttotal: 1h 1m 18s\tremaining: 5m 19s\n",
      "184:\tlearn: 47.7449350\ttotal: 1h 1m 37s\tremaining: 4m 59s\n",
      "185:\tlearn: 47.7291007\ttotal: 1h 1m 58s\tremaining: 4m 39s\n",
      "186:\tlearn: 47.7174670\ttotal: 1h 2m 18s\tremaining: 4m 19s\n",
      "187:\tlearn: 47.7040715\ttotal: 1h 2m 38s\tremaining: 3m 59s\n",
      "188:\tlearn: 47.6913730\ttotal: 1h 2m 58s\tremaining: 3m 39s\n",
      "189:\tlearn: 47.6765151\ttotal: 1h 3m 18s\tremaining: 3m 19s\n",
      "190:\tlearn: 47.6649679\ttotal: 1h 3m 38s\tremaining: 2m 59s\n",
      "191:\tlearn: 47.6535814\ttotal: 1h 3m 58s\tremaining: 2m 39s\n",
      "192:\tlearn: 47.6414983\ttotal: 1h 4m 18s\tremaining: 2m 19s\n",
      "193:\tlearn: 47.6284767\ttotal: 1h 4m 37s\tremaining: 1m 59s\n",
      "194:\tlearn: 47.6111004\ttotal: 1h 4m 58s\tremaining: 1m 39s\n",
      "195:\tlearn: 47.5991868\ttotal: 1h 5m 17s\tremaining: 1m 19s\n",
      "196:\tlearn: 47.5875102\ttotal: 1h 5m 37s\tremaining: 60s\n",
      "197:\tlearn: 47.5749734\ttotal: 1h 5m 57s\tremaining: 40s\n",
      "198:\tlearn: 47.5626349\ttotal: 1h 6m 17s\tremaining: 20s\n",
      "199:\tlearn: 47.5503844\ttotal: 1h 6m 37s\tremaining: 0us\n",
      "0 0.6683427933651053\n",
      "Train...\n",
      "0:\tlearn: 74.4830332\ttotal: 19.8s\tremaining: 1h 5m 44s\n",
      "1:\tlearn: 72.3985753\ttotal: 40s\tremaining: 1h 6m 3s\n",
      "2:\tlearn: 70.5169359\ttotal: 1m\tremaining: 1h 5m 41s\n",
      "3:\tlearn: 68.8492657\ttotal: 1m 19s\tremaining: 1h 5m 15s\n",
      "4:\tlearn: 67.4122811\ttotal: 1m 40s\tremaining: 1h 5m 2s\n",
      "5:\tlearn: 66.1275285\ttotal: 2m\tremaining: 1h 4m 50s\n",
      "6:\tlearn: 64.9014366\ttotal: 2m 20s\tremaining: 1h 4m 27s\n",
      "7:\tlearn: 63.8613795\ttotal: 2m 40s\tremaining: 1h 4m 9s\n",
      "8:\tlearn: 62.9053101\ttotal: 3m\tremaining: 1h 3m 46s\n",
      "9:\tlearn: 62.0572708\ttotal: 3m 20s\tremaining: 1h 3m 29s\n",
      "10:\tlearn: 61.3428951\ttotal: 3m 40s\tremaining: 1h 3m 8s\n",
      "11:\tlearn: 60.6814947\ttotal: 4m\tremaining: 1h 2m 43s\n",
      "12:\tlearn: 60.0520585\ttotal: 4m 20s\tremaining: 1h 2m 30s\n",
      "13:\tlearn: 59.5237698\ttotal: 4m 40s\tremaining: 1h 2m 9s\n",
      "14:\tlearn: 59.0424224\ttotal: 5m\tremaining: 1h 1m 47s\n",
      "15:\tlearn: 58.6371723\ttotal: 5m 20s\tremaining: 1h 1m 23s\n",
      "16:\tlearn: 58.1754412\ttotal: 5m 40s\tremaining: 1h 1m 4s\n",
      "17:\tlearn: 57.8041805\ttotal: 6m 1s\tremaining: 1h 58s\n",
      "18:\tlearn: 57.4548556\ttotal: 6m 22s\tremaining: 1h 41s\n",
      "19:\tlearn: 57.0917473\ttotal: 6m 42s\tremaining: 1h 22s\n",
      "20:\tlearn: 56.7729459\ttotal: 7m 2s\tremaining: 1h 3s\n",
      "21:\tlearn: 56.4774035\ttotal: 7m 22s\tremaining: 59m 43s\n",
      "22:\tlearn: 56.1823336\ttotal: 7m 42s\tremaining: 59m 22s\n",
      "23:\tlearn: 55.9105358\ttotal: 8m 3s\tremaining: 59m 4s\n",
      "24:\tlearn: 55.6410636\ttotal: 8m 23s\tremaining: 58m 44s\n",
      "25:\tlearn: 55.4085571\ttotal: 8m 43s\tremaining: 58m 21s\n",
      "26:\tlearn: 55.1717025\ttotal: 9m 3s\tremaining: 58m 3s\n",
      "27:\tlearn: 54.9670482\ttotal: 9m 23s\tremaining: 57m 42s\n",
      "28:\tlearn: 54.7814779\ttotal: 9m 44s\tremaining: 57m 25s\n",
      "29:\tlearn: 54.6002850\ttotal: 10m 17s\tremaining: 58m 20s\n",
      "30:\tlearn: 54.4195117\ttotal: 10m 39s\tremaining: 58m 8s\n",
      "31:\tlearn: 54.2225753\ttotal: 10m 59s\tremaining: 57m 44s\n",
      "32:\tlearn: 54.0650159\ttotal: 11m 19s\tremaining: 57m 20s\n",
      "33:\tlearn: 53.9040975\ttotal: 11m 39s\tremaining: 56m 57s\n",
      "34:\tlearn: 53.7487078\ttotal: 12m\tremaining: 56m 34s\n",
      "35:\tlearn: 53.6130588\ttotal: 12m 20s\tremaining: 56m 13s\n",
      "36:\tlearn: 53.4650391\ttotal: 12m 40s\tremaining: 55m 49s\n",
      "37:\tlearn: 53.3337039\ttotal: 13m\tremaining: 55m 26s\n",
      "38:\tlearn: 53.2040237\ttotal: 13m 20s\tremaining: 55m 5s\n",
      "39:\tlearn: 53.0867505\ttotal: 13m 40s\tremaining: 54m 41s\n",
      "40:\tlearn: 52.9779801\ttotal: 14m\tremaining: 54m 19s\n",
      "41:\tlearn: 52.8585168\ttotal: 14m 20s\tremaining: 53m 58s\n",
      "42:\tlearn: 52.7246292\ttotal: 14m 40s\tremaining: 53m 35s\n",
      "43:\tlearn: 52.6232954\ttotal: 15m\tremaining: 53m 13s\n",
      "44:\tlearn: 52.5166824\ttotal: 15m 21s\tremaining: 52m 53s\n",
      "45:\tlearn: 52.4134629\ttotal: 15m 41s\tremaining: 52m 30s\n",
      "46:\tlearn: 52.3171874\ttotal: 16m 1s\tremaining: 52m 10s\n",
      "47:\tlearn: 52.2266281\ttotal: 16m 22s\tremaining: 51m 49s\n",
      "48:\tlearn: 52.1437111\ttotal: 16m 41s\tremaining: 51m 26s\n",
      "49:\tlearn: 52.0589267\ttotal: 17m 1s\tremaining: 51m 5s\n",
      "50:\tlearn: 51.9761749\ttotal: 17m 21s\tremaining: 50m 42s\n",
      "51:\tlearn: 51.8964624\ttotal: 17m 41s\tremaining: 50m 20s\n",
      "52:\tlearn: 51.8216889\ttotal: 18m 1s\tremaining: 49m 58s\n",
      "53:\tlearn: 51.7491372\ttotal: 18m 20s\tremaining: 49m 36s\n",
      "54:\tlearn: 51.6777013\ttotal: 18m 40s\tremaining: 49m 15s\n",
      "55:\tlearn: 51.5895008\ttotal: 19m 1s\tremaining: 48m 55s\n",
      "56:\tlearn: 51.5012145\ttotal: 19m 21s\tremaining: 48m 33s\n",
      "57:\tlearn: 51.4342518\ttotal: 19m 41s\tremaining: 48m 12s\n",
      "58:\tlearn: 51.3568680\ttotal: 20m 1s\tremaining: 47m 50s\n",
      "59:\tlearn: 51.2727405\ttotal: 20m 21s\tremaining: 47m 30s\n",
      "60:\tlearn: 51.2058287\ttotal: 20m 42s\tremaining: 47m 10s\n",
      "61:\tlearn: 51.1482396\ttotal: 21m 1s\tremaining: 46m 48s\n",
      "62:\tlearn: 51.0890690\ttotal: 21m 22s\tremaining: 46m 28s\n",
      "63:\tlearn: 51.0233082\ttotal: 21m 42s\tremaining: 46m 7s\n",
      "64:\tlearn: 50.9639900\ttotal: 22m 2s\tremaining: 45m 46s\n",
      "65:\tlearn: 50.9122566\ttotal: 22m 22s\tremaining: 45m 25s\n",
      "66:\tlearn: 50.8566937\ttotal: 22m 41s\tremaining: 45m 3s\n",
      "67:\tlearn: 50.8069674\ttotal: 23m 2s\tremaining: 44m 43s\n",
      "68:\tlearn: 50.7499424\ttotal: 23m 22s\tremaining: 44m 23s\n",
      "69:\tlearn: 50.7003123\ttotal: 23m 42s\tremaining: 44m 1s\n",
      "70:\tlearn: 50.6490999\ttotal: 24m 2s\tremaining: 43m 40s\n",
      "71:\tlearn: 50.5995916\ttotal: 24m 21s\tremaining: 43m 18s\n",
      "72:\tlearn: 50.5483223\ttotal: 24m 41s\tremaining: 42m 57s\n",
      "73:\tlearn: 50.5130325\ttotal: 25m 1s\tremaining: 42m 36s\n",
      "74:\tlearn: 50.4701894\ttotal: 25m 21s\tremaining: 42m 15s\n",
      "75:\tlearn: 50.4060938\ttotal: 25m 41s\tremaining: 41m 54s\n",
      "76:\tlearn: 50.3709996\ttotal: 26m 1s\tremaining: 41m 33s\n",
      "77:\tlearn: 50.3302187\ttotal: 26m 21s\tremaining: 41m 13s\n",
      "78:\tlearn: 50.2948614\ttotal: 26m 41s\tremaining: 40m 52s\n",
      "79:\tlearn: 50.2553189\ttotal: 27m 1s\tremaining: 40m 31s\n",
      "80:\tlearn: 50.2224746\ttotal: 27m 20s\tremaining: 40m 10s\n",
      "81:\tlearn: 50.1806626\ttotal: 27m 40s\tremaining: 39m 49s\n",
      "82:\tlearn: 50.1281393\ttotal: 28m\tremaining: 39m 28s\n",
      "83:\tlearn: 50.0986349\ttotal: 28m 20s\tremaining: 39m 8s\n",
      "84:\tlearn: 50.0615089\ttotal: 28m 40s\tremaining: 38m 48s\n",
      "85:\tlearn: 50.0193368\ttotal: 29m\tremaining: 38m 27s\n",
      "86:\tlearn: 49.9815912\ttotal: 29m 20s\tremaining: 38m 6s\n",
      "87:\tlearn: 49.9525876\ttotal: 29m 40s\tremaining: 37m 46s\n",
      "88:\tlearn: 49.9122495\ttotal: 30m\tremaining: 37m 24s\n",
      "89:\tlearn: 49.8852277\ttotal: 30m 20s\tremaining: 37m 4s\n",
      "90:\tlearn: 49.8390080\ttotal: 30m 40s\tremaining: 36m 44s\n",
      "91:\tlearn: 49.8084544\ttotal: 31m\tremaining: 36m 24s\n",
      "92:\tlearn: 49.7804573\ttotal: 31m 20s\tremaining: 36m 3s\n",
      "93:\tlearn: 49.7510582\ttotal: 31m 40s\tremaining: 35m 42s\n",
      "94:\tlearn: 49.7082929\ttotal: 32m\tremaining: 35m 22s\n",
      "95:\tlearn: 49.6738093\ttotal: 32m 20s\tremaining: 35m 2s\n",
      "96:\tlearn: 49.6412098\ttotal: 32m 40s\tremaining: 34m 41s\n",
      "97:\tlearn: 49.6143275\ttotal: 33m\tremaining: 34m 21s\n",
      "98:\tlearn: 49.5908484\ttotal: 33m 20s\tremaining: 34m\n",
      "99:\tlearn: 49.5682407\ttotal: 33m 40s\tremaining: 33m 40s\n",
      "100:\tlearn: 49.5405989\ttotal: 34m\tremaining: 33m 19s\n",
      "101:\tlearn: 49.5144485\ttotal: 34m 19s\tremaining: 32m 58s\n",
      "102:\tlearn: 49.4901968\ttotal: 34m 39s\tremaining: 32m 37s\n",
      "103:\tlearn: 49.4658151\ttotal: 34m 58s\tremaining: 32m 17s\n",
      "104:\tlearn: 49.4454027\ttotal: 35m 18s\tremaining: 31m 56s\n",
      "105:\tlearn: 49.4201516\ttotal: 35m 37s\tremaining: 31m 35s\n",
      "106:\tlearn: 49.3828612\ttotal: 35m 57s\tremaining: 31m 15s\n",
      "107:\tlearn: 49.3615034\ttotal: 36m 17s\tremaining: 30m 54s\n",
      "108:\tlearn: 49.3322287\ttotal: 36m 37s\tremaining: 30m 34s\n",
      "109:\tlearn: 49.3039881\ttotal: 36m 57s\tremaining: 30m 14s\n",
      "110:\tlearn: 49.2661210\ttotal: 37m 17s\tremaining: 29m 54s\n",
      "111:\tlearn: 49.2412905\ttotal: 37m 37s\tremaining: 29m 33s\n",
      "112:\tlearn: 49.2171513\ttotal: 37m 57s\tremaining: 29m 13s\n",
      "113:\tlearn: 49.1800089\ttotal: 38m 17s\tremaining: 28m 53s\n",
      "114:\tlearn: 49.1443421\ttotal: 38m 38s\tremaining: 28m 33s\n",
      "115:\tlearn: 49.1213898\ttotal: 38m 57s\tremaining: 28m 12s\n",
      "116:\tlearn: 49.0998537\ttotal: 39m 17s\tremaining: 27m 52s\n",
      "117:\tlearn: 49.0754161\ttotal: 39m 36s\tremaining: 27m 31s\n",
      "118:\tlearn: 49.0542408\ttotal: 39m 56s\tremaining: 27m 11s\n",
      "119:\tlearn: 49.0336936\ttotal: 40m 16s\tremaining: 26m 50s\n",
      "120:\tlearn: 49.0088745\ttotal: 40m 35s\tremaining: 26m 30s\n",
      "121:\tlearn: 48.9850794\ttotal: 40m 55s\tremaining: 26m 9s\n",
      "122:\tlearn: 48.9612442\ttotal: 41m 15s\tremaining: 25m 49s\n",
      "123:\tlearn: 48.9360838\ttotal: 41m 34s\tremaining: 25m 29s\n",
      "124:\tlearn: 48.9079021\ttotal: 41m 54s\tremaining: 25m 8s\n",
      "125:\tlearn: 48.8851453\ttotal: 42m 14s\tremaining: 24m 48s\n",
      "126:\tlearn: 48.8604750\ttotal: 42m 34s\tremaining: 24m 28s\n",
      "127:\tlearn: 48.8405552\ttotal: 42m 53s\tremaining: 24m 7s\n",
      "128:\tlearn: 48.8224496\ttotal: 43m 13s\tremaining: 23m 47s\n",
      "129:\tlearn: 48.7930483\ttotal: 43m 33s\tremaining: 23m 27s\n",
      "130:\tlearn: 48.7738603\ttotal: 43m 52s\tremaining: 23m 6s\n",
      "131:\tlearn: 48.7523748\ttotal: 44m 11s\tremaining: 22m 46s\n",
      "132:\tlearn: 48.7246701\ttotal: 44m 31s\tremaining: 22m 26s\n",
      "133:\tlearn: 48.6986251\ttotal: 44m 51s\tremaining: 22m 5s\n",
      "134:\tlearn: 48.6713756\ttotal: 45m 11s\tremaining: 21m 45s\n",
      "135:\tlearn: 48.6486958\ttotal: 45m 30s\tremaining: 21m 25s\n",
      "136:\tlearn: 48.6266868\ttotal: 45m 50s\tremaining: 21m 4s\n",
      "137:\tlearn: 48.6069098\ttotal: 46m 9s\tremaining: 20m 44s\n",
      "138:\tlearn: 48.5892250\ttotal: 46m 29s\tremaining: 20m 24s\n",
      "139:\tlearn: 48.5677019\ttotal: 46m 49s\tremaining: 20m 3s\n",
      "140:\tlearn: 48.5511530\ttotal: 47m 8s\tremaining: 19m 43s\n",
      "141:\tlearn: 48.5256445\ttotal: 47m 28s\tremaining: 19m 23s\n",
      "142:\tlearn: 48.5101750\ttotal: 47m 47s\tremaining: 19m 3s\n",
      "143:\tlearn: 48.4915959\ttotal: 48m 7s\tremaining: 18m 42s\n",
      "144:\tlearn: 48.4728348\ttotal: 48m 27s\tremaining: 18m 22s\n",
      "145:\tlearn: 48.4533382\ttotal: 48m 47s\tremaining: 18m 2s\n",
      "146:\tlearn: 48.4312855\ttotal: 49m 6s\tremaining: 17m 42s\n",
      "147:\tlearn: 48.4108809\ttotal: 49m 26s\tremaining: 17m 22s\n",
      "148:\tlearn: 48.3920278\ttotal: 49m 46s\tremaining: 17m 2s\n",
      "149:\tlearn: 48.3768721\ttotal: 50m 5s\tremaining: 16m 41s\n",
      "150:\tlearn: 48.3592998\ttotal: 50m 25s\tremaining: 16m 21s\n",
      "151:\tlearn: 48.3300819\ttotal: 50m 44s\tremaining: 16m 1s\n",
      "152:\tlearn: 48.3095889\ttotal: 51m 4s\tremaining: 15m 41s\n",
      "153:\tlearn: 48.2881202\ttotal: 51m 24s\tremaining: 15m 21s\n",
      "154:\tlearn: 48.2710288\ttotal: 51m 43s\tremaining: 15m 1s\n",
      "155:\tlearn: 48.2485431\ttotal: 52m 3s\tremaining: 14m 41s\n",
      "156:\tlearn: 48.2335216\ttotal: 52m 22s\tremaining: 14m 20s\n",
      "157:\tlearn: 48.2153941\ttotal: 52m 42s\tremaining: 14m\n",
      "158:\tlearn: 48.1971898\ttotal: 53m 2s\tremaining: 13m 40s\n",
      "159:\tlearn: 48.1821125\ttotal: 53m 21s\tremaining: 13m 20s\n",
      "160:\tlearn: 48.1635605\ttotal: 53m 41s\tremaining: 13m\n",
      "161:\tlearn: 48.1478046\ttotal: 54m 1s\tremaining: 12m 40s\n",
      "162:\tlearn: 48.1333380\ttotal: 54m 20s\tremaining: 12m 20s\n",
      "163:\tlearn: 48.1153427\ttotal: 54m 39s\tremaining: 11m 59s\n",
      "164:\tlearn: 48.0986450\ttotal: 54m 59s\tremaining: 11m 39s\n",
      "165:\tlearn: 48.0838121\ttotal: 55m 19s\tremaining: 11m 19s\n",
      "166:\tlearn: 48.0687504\ttotal: 55m 38s\tremaining: 10m 59s\n",
      "167:\tlearn: 48.0548211\ttotal: 55m 58s\tremaining: 10m 39s\n",
      "168:\tlearn: 48.0334210\ttotal: 56m 18s\tremaining: 10m 19s\n",
      "169:\tlearn: 48.0183971\ttotal: 56m 37s\tremaining: 9m 59s\n",
      "170:\tlearn: 48.0036071\ttotal: 56m 57s\tremaining: 9m 39s\n",
      "171:\tlearn: 47.9882588\ttotal: 57m 17s\tremaining: 9m 19s\n",
      "172:\tlearn: 47.9660643\ttotal: 57m 36s\tremaining: 8m 59s\n",
      "173:\tlearn: 47.9531224\ttotal: 57m 56s\tremaining: 8m 39s\n",
      "174:\tlearn: 47.9309144\ttotal: 58m 16s\tremaining: 8m 19s\n",
      "175:\tlearn: 47.9162404\ttotal: 58m 36s\tremaining: 7m 59s\n",
      "176:\tlearn: 47.8991750\ttotal: 58m 55s\tremaining: 7m 39s\n",
      "177:\tlearn: 47.8837971\ttotal: 59m 15s\tremaining: 7m 19s\n",
      "178:\tlearn: 47.8686788\ttotal: 59m 35s\tremaining: 6m 59s\n",
      "179:\tlearn: 47.8549125\ttotal: 59m 54s\tremaining: 6m 39s\n",
      "180:\tlearn: 47.8378047\ttotal: 1h 14s\tremaining: 6m 19s\n",
      "181:\tlearn: 47.8251576\ttotal: 1h 34s\tremaining: 5m 59s\n",
      "182:\tlearn: 47.8103108\ttotal: 1h 53s\tremaining: 5m 39s\n",
      "183:\tlearn: 47.7958352\ttotal: 1h 1m 13s\tremaining: 5m 19s\n",
      "184:\tlearn: 47.7819985\ttotal: 1h 1m 33s\tremaining: 4m 59s\n",
      "185:\tlearn: 47.7681091\ttotal: 1h 1m 52s\tremaining: 4m 39s\n",
      "186:\tlearn: 47.7552247\ttotal: 1h 2m 12s\tremaining: 4m 19s\n",
      "187:\tlearn: 47.7402464\ttotal: 1h 2m 32s\tremaining: 3m 59s\n",
      "188:\tlearn: 47.7269692\ttotal: 1h 2m 52s\tremaining: 3m 39s\n",
      "189:\tlearn: 47.7163844\ttotal: 1h 3m 11s\tremaining: 3m 19s\n",
      "190:\tlearn: 47.6991581\ttotal: 1h 3m 30s\tremaining: 2m 59s\n",
      "191:\tlearn: 47.6866496\ttotal: 1h 3m 50s\tremaining: 2m 39s\n",
      "192:\tlearn: 47.6706873\ttotal: 1h 4m 10s\tremaining: 2m 19s\n",
      "193:\tlearn: 47.6574904\ttotal: 1h 4m 29s\tremaining: 1m 59s\n",
      "194:\tlearn: 47.6377670\ttotal: 1h 4m 49s\tremaining: 1m 39s\n",
      "195:\tlearn: 47.6240955\ttotal: 1h 5m 9s\tremaining: 1m 19s\n",
      "196:\tlearn: 47.6110899\ttotal: 1h 5m 28s\tremaining: 59.8s\n",
      "197:\tlearn: 47.5999519\ttotal: 1h 5m 48s\tremaining: 39.9s\n",
      "198:\tlearn: 47.5883762\ttotal: 1h 6m 7s\tremaining: 19.9s\n",
      "199:\tlearn: 47.5764106\ttotal: 1h 6m 27s\tremaining: 0us\n",
      "1 0.6684212506618523\n",
      "Train...\n",
      "0:\tlearn: 74.4675653\ttotal: 19.8s\tremaining: 1h 5m 45s\n",
      "1:\tlearn: 72.3962006\ttotal: 39.5s\tremaining: 1h 5m 10s\n",
      "2:\tlearn: 70.5297958\ttotal: 59.4s\tremaining: 1h 5m\n",
      "3:\tlearn: 68.8392153\ttotal: 1m 18s\tremaining: 1h 4m 25s\n",
      "4:\tlearn: 67.3212372\ttotal: 1m 38s\tremaining: 1h 4m 15s\n",
      "5:\tlearn: 66.0475564\ttotal: 1m 58s\tremaining: 1h 4m 3s\n",
      "6:\tlearn: 64.8064098\ttotal: 2m 18s\tremaining: 1h 3m 47s\n",
      "7:\tlearn: 63.7372962\ttotal: 2m 39s\tremaining: 1h 3m 36s\n",
      "8:\tlearn: 62.8070010\ttotal: 2m 59s\tremaining: 1h 3m 19s\n",
      "9:\tlearn: 61.9658615\ttotal: 3m 18s\tremaining: 1h 2m 56s\n",
      "10:\tlearn: 61.2251186\ttotal: 3m 38s\tremaining: 1h 2m 41s\n",
      "11:\tlearn: 60.5565124\ttotal: 3m 58s\tremaining: 1h 2m 20s\n",
      "12:\tlearn: 59.9803753\ttotal: 4m 18s\tremaining: 1h 2m 3s\n",
      "13:\tlearn: 59.4428494\ttotal: 4m 38s\tremaining: 1h 1m 41s\n",
      "14:\tlearn: 58.9892242\ttotal: 4m 58s\tremaining: 1h 1m 18s\n",
      "15:\tlearn: 58.5176177\ttotal: 5m 18s\tremaining: 1h 59s\n",
      "16:\tlearn: 58.1037884\ttotal: 5m 38s\tremaining: 1h 39s\n",
      "17:\tlearn: 57.7284263\ttotal: 5m 57s\tremaining: 1h 16s\n",
      "18:\tlearn: 57.3775093\ttotal: 6m 17s\tremaining: 1h\n",
      "19:\tlearn: 57.0254731\ttotal: 6m 37s\tremaining: 59m 39s\n",
      "20:\tlearn: 56.6906350\ttotal: 6m 58s\tremaining: 59m 23s\n",
      "21:\tlearn: 56.3893663\ttotal: 7m 17s\tremaining: 59m 1s\n",
      "22:\tlearn: 56.1310026\ttotal: 7m 37s\tremaining: 58m 38s\n",
      "23:\tlearn: 55.8732254\ttotal: 7m 57s\tremaining: 58m 22s\n",
      "24:\tlearn: 55.6040531\ttotal: 8m 17s\tremaining: 58m 3s\n",
      "25:\tlearn: 55.3700841\ttotal: 8m 37s\tremaining: 57m 43s\n",
      "26:\tlearn: 55.1626794\ttotal: 8m 57s\tremaining: 57m 22s\n",
      "27:\tlearn: 54.9555507\ttotal: 9m 17s\tremaining: 57m 1s\n",
      "28:\tlearn: 54.7338440\ttotal: 9m 37s\tremaining: 56m 43s\n",
      "29:\tlearn: 54.5487693\ttotal: 10m 6s\tremaining: 57m 18s\n",
      "30:\tlearn: 54.3685450\ttotal: 10m 29s\tremaining: 57m 9s\n",
      "31:\tlearn: 54.1961211\ttotal: 10m 48s\tremaining: 56m 45s\n",
      "32:\tlearn: 54.0073693\ttotal: 11m 8s\tremaining: 56m 24s\n",
      "33:\tlearn: 53.8586638\ttotal: 11m 28s\tremaining: 56m 1s\n",
      "34:\tlearn: 53.6961201\ttotal: 11m 48s\tremaining: 55m 39s\n",
      "35:\tlearn: 53.5642561\ttotal: 12m 8s\tremaining: 55m 18s\n",
      "36:\tlearn: 53.4033145\ttotal: 12m 28s\tremaining: 54m 56s\n",
      "37:\tlearn: 53.2676865\ttotal: 12m 48s\tremaining: 54m 34s\n",
      "38:\tlearn: 53.1320616\ttotal: 13m 8s\tremaining: 54m 13s\n",
      "39:\tlearn: 53.0032508\ttotal: 13m 27s\tremaining: 53m 50s\n",
      "40:\tlearn: 52.8742675\ttotal: 13m 47s\tremaining: 53m 29s\n",
      "41:\tlearn: 52.7651732\ttotal: 14m 7s\tremaining: 53m 9s\n",
      "42:\tlearn: 52.6493832\ttotal: 14m 27s\tremaining: 52m 48s\n",
      "43:\tlearn: 52.5389666\ttotal: 14m 47s\tremaining: 52m 27s\n",
      "44:\tlearn: 52.4162903\ttotal: 15m 8s\tremaining: 52m 8s\n",
      "45:\tlearn: 52.3136149\ttotal: 15m 28s\tremaining: 51m 47s\n",
      "46:\tlearn: 52.2088004\ttotal: 15m 48s\tremaining: 51m 28s\n",
      "47:\tlearn: 52.1073106\ttotal: 16m 9s\tremaining: 51m 9s\n",
      "48:\tlearn: 52.0127791\ttotal: 16m 29s\tremaining: 50m 49s\n",
      "49:\tlearn: 51.9182726\ttotal: 16m 49s\tremaining: 50m 29s\n",
      "50:\tlearn: 51.8315936\ttotal: 17m 10s\tremaining: 50m 9s\n",
      "51:\tlearn: 51.7538624\ttotal: 17m 30s\tremaining: 49m 50s\n",
      "52:\tlearn: 51.6801539\ttotal: 17m 50s\tremaining: 49m 28s\n",
      "53:\tlearn: 51.6069748\ttotal: 18m 9s\tremaining: 49m 6s\n",
      "54:\tlearn: 51.5397026\ttotal: 18m 30s\tremaining: 48m 47s\n",
      "55:\tlearn: 51.4443455\ttotal: 18m 50s\tremaining: 48m 27s\n",
      "56:\tlearn: 51.3855678\ttotal: 19m 10s\tremaining: 48m 5s\n",
      "57:\tlearn: 51.3168961\ttotal: 19m 30s\tremaining: 47m 46s\n",
      "58:\tlearn: 51.2401865\ttotal: 19m 50s\tremaining: 47m 25s\n",
      "59:\tlearn: 51.1694517\ttotal: 20m 11s\tremaining: 47m 6s\n",
      "60:\tlearn: 51.1054898\ttotal: 20m 31s\tremaining: 46m 45s\n",
      "61:\tlearn: 51.0390380\ttotal: 20m 51s\tremaining: 46m 24s\n",
      "62:\tlearn: 50.9861135\ttotal: 21m 11s\tremaining: 46m 4s\n",
      "63:\tlearn: 50.9176964\ttotal: 21m 31s\tremaining: 45m 44s\n",
      "64:\tlearn: 50.8581925\ttotal: 21m 51s\tremaining: 45m 23s\n",
      "65:\tlearn: 50.8045607\ttotal: 22m 11s\tremaining: 45m 2s\n",
      "66:\tlearn: 50.7475943\ttotal: 22m 30s\tremaining: 44m 41s\n",
      "67:\tlearn: 50.6933314\ttotal: 22m 50s\tremaining: 44m 21s\n",
      "68:\tlearn: 50.6375711\ttotal: 23m 10s\tremaining: 44m\n",
      "69:\tlearn: 50.5797996\ttotal: 23m 31s\tremaining: 43m 40s\n",
      "70:\tlearn: 50.5352232\ttotal: 23m 51s\tremaining: 43m 20s\n",
      "71:\tlearn: 50.4902523\ttotal: 24m 11s\tremaining: 43m\n",
      "72:\tlearn: 50.4449514\ttotal: 24m 31s\tremaining: 42m 40s\n",
      "73:\tlearn: 50.4051565\ttotal: 24m 52s\tremaining: 42m 20s\n",
      "74:\tlearn: 50.3482371\ttotal: 25m 12s\tremaining: 42m\n",
      "75:\tlearn: 50.3076444\ttotal: 25m 32s\tremaining: 41m 40s\n",
      "76:\tlearn: 50.2691296\ttotal: 25m 52s\tremaining: 41m 19s\n",
      "77:\tlearn: 50.2284171\ttotal: 26m 12s\tremaining: 40m 59s\n",
      "78:\tlearn: 50.1858770\ttotal: 26m 33s\tremaining: 40m 39s\n",
      "79:\tlearn: 50.1480273\ttotal: 26m 53s\tremaining: 40m 19s\n",
      "80:\tlearn: 50.1118726\ttotal: 27m 13s\tremaining: 39m 59s\n",
      "81:\tlearn: 50.0714925\ttotal: 27m 33s\tremaining: 39m 38s\n",
      "82:\tlearn: 50.0315588\ttotal: 27m 53s\tremaining: 39m 18s\n",
      "83:\tlearn: 49.9954438\ttotal: 28m 13s\tremaining: 38m 57s\n",
      "84:\tlearn: 49.9617619\ttotal: 28m 33s\tremaining: 38m 37s\n",
      "85:\tlearn: 49.9232830\ttotal: 28m 52s\tremaining: 38m 16s\n",
      "86:\tlearn: 49.8931809\ttotal: 29m 13s\tremaining: 37m 56s\n",
      "87:\tlearn: 49.8661391\ttotal: 29m 33s\tremaining: 37m 36s\n",
      "88:\tlearn: 49.8287273\ttotal: 29m 53s\tremaining: 37m 16s\n",
      "89:\tlearn: 49.8022526\ttotal: 30m 13s\tremaining: 36m 56s\n",
      "90:\tlearn: 49.7720197\ttotal: 30m 33s\tremaining: 36m 36s\n",
      "91:\tlearn: 49.7454166\ttotal: 30m 53s\tremaining: 36m 16s\n",
      "92:\tlearn: 49.7094257\ttotal: 31m 13s\tremaining: 35m 56s\n",
      "93:\tlearn: 49.6755680\ttotal: 31m 33s\tremaining: 35m 35s\n",
      "94:\tlearn: 49.6426795\ttotal: 31m 54s\tremaining: 35m 15s\n",
      "95:\tlearn: 49.6081355\ttotal: 32m 14s\tremaining: 34m 55s\n",
      "96:\tlearn: 49.5782918\ttotal: 32m 34s\tremaining: 34m 35s\n",
      "97:\tlearn: 49.5520157\ttotal: 32m 54s\tremaining: 34m 14s\n",
      "98:\tlearn: 49.5293354\ttotal: 33m 13s\tremaining: 33m 53s\n",
      "99:\tlearn: 49.5015527\ttotal: 33m 33s\tremaining: 33m 33s\n",
      "100:\tlearn: 49.4748073\ttotal: 33m 53s\tremaining: 33m 13s\n",
      "101:\tlearn: 49.4416105\ttotal: 34m 13s\tremaining: 32m 53s\n",
      "102:\tlearn: 49.4199259\ttotal: 34m 32s\tremaining: 32m 32s\n",
      "103:\tlearn: 49.3923644\ttotal: 34m 52s\tremaining: 32m 11s\n",
      "104:\tlearn: 49.3588577\ttotal: 35m 13s\tremaining: 31m 51s\n",
      "105:\tlearn: 49.3289588\ttotal: 35m 33s\tremaining: 31m 31s\n",
      "106:\tlearn: 49.2976565\ttotal: 35m 53s\tremaining: 31m 11s\n",
      "107:\tlearn: 49.2706497\ttotal: 36m 13s\tremaining: 30m 51s\n",
      "108:\tlearn: 49.2348820\ttotal: 36m 33s\tremaining: 30m 31s\n",
      "109:\tlearn: 49.2129480\ttotal: 36m 53s\tremaining: 30m 10s\n",
      "110:\tlearn: 49.1897066\ttotal: 37m 13s\tremaining: 29m 50s\n",
      "111:\tlearn: 49.1611310\ttotal: 37m 33s\tremaining: 29m 30s\n",
      "112:\tlearn: 49.1425981\ttotal: 37m 52s\tremaining: 29m 9s\n",
      "113:\tlearn: 49.1114857\ttotal: 38m 13s\tremaining: 28m 49s\n",
      "114:\tlearn: 49.0763698\ttotal: 38m 33s\tremaining: 28m 29s\n",
      "115:\tlearn: 49.0464893\ttotal: 38m 52s\tremaining: 28m 9s\n",
      "116:\tlearn: 49.0167202\ttotal: 39m 12s\tremaining: 27m 49s\n",
      "117:\tlearn: 48.9924706\ttotal: 39m 32s\tremaining: 27m 28s\n",
      "118:\tlearn: 48.9627444\ttotal: 39m 52s\tremaining: 27m 8s\n",
      "119:\tlearn: 48.9382178\ttotal: 40m 12s\tremaining: 26m 48s\n",
      "120:\tlearn: 48.9160874\ttotal: 40m 31s\tremaining: 26m 27s\n",
      "121:\tlearn: 48.8916096\ttotal: 40m 52s\tremaining: 26m 7s\n",
      "122:\tlearn: 48.8588031\ttotal: 41m 12s\tremaining: 25m 47s\n",
      "123:\tlearn: 48.8292729\ttotal: 41m 31s\tremaining: 25m 27s\n",
      "124:\tlearn: 48.8098917\ttotal: 41m 51s\tremaining: 25m 6s\n",
      "125:\tlearn: 48.7896380\ttotal: 42m 11s\tremaining: 24m 46s\n",
      "126:\tlearn: 48.7657213\ttotal: 42m 30s\tremaining: 24m 26s\n",
      "127:\tlearn: 48.7487441\ttotal: 42m 50s\tremaining: 24m 6s\n",
      "128:\tlearn: 48.7295713\ttotal: 43m 10s\tremaining: 23m 45s\n",
      "129:\tlearn: 48.7107813\ttotal: 43m 30s\tremaining: 23m 25s\n",
      "130:\tlearn: 48.6863519\ttotal: 43m 50s\tremaining: 23m 5s\n",
      "131:\tlearn: 48.6633575\ttotal: 44m 9s\tremaining: 22m 45s\n",
      "132:\tlearn: 48.6465032\ttotal: 44m 30s\tremaining: 22m 25s\n",
      "133:\tlearn: 48.6219842\ttotal: 44m 50s\tremaining: 22m 4s\n",
      "134:\tlearn: 48.6024434\ttotal: 45m 9s\tremaining: 21m 44s\n",
      "135:\tlearn: 48.5787203\ttotal: 45m 29s\tremaining: 21m 24s\n",
      "136:\tlearn: 48.5580558\ttotal: 45m 48s\tremaining: 21m 4s\n",
      "137:\tlearn: 48.5313207\ttotal: 46m 8s\tremaining: 20m 44s\n",
      "138:\tlearn: 48.5098558\ttotal: 46m 28s\tremaining: 20m 23s\n",
      "139:\tlearn: 48.4965955\ttotal: 46m 48s\tremaining: 20m 3s\n",
      "140:\tlearn: 48.4739340\ttotal: 47m 8s\tremaining: 19m 43s\n",
      "141:\tlearn: 48.4533084\ttotal: 47m 28s\tremaining: 19m 23s\n",
      "142:\tlearn: 48.4377893\ttotal: 47m 48s\tremaining: 19m 3s\n",
      "143:\tlearn: 48.4126794\ttotal: 48m 8s\tremaining: 18m 43s\n",
      "144:\tlearn: 48.3894421\ttotal: 48m 28s\tremaining: 18m 23s\n",
      "145:\tlearn: 48.3643840\ttotal: 48m 48s\tremaining: 18m 3s\n",
      "146:\tlearn: 48.3494308\ttotal: 49m 7s\tremaining: 17m 42s\n",
      "147:\tlearn: 48.3277483\ttotal: 49m 27s\tremaining: 17m 22s\n",
      "148:\tlearn: 48.3084773\ttotal: 49m 47s\tremaining: 17m 2s\n",
      "149:\tlearn: 48.2914010\ttotal: 50m 7s\tremaining: 16m 42s\n",
      "150:\tlearn: 48.2754241\ttotal: 50m 27s\tremaining: 16m 22s\n",
      "151:\tlearn: 48.2602217\ttotal: 50m 47s\tremaining: 16m 2s\n",
      "152:\tlearn: 48.2347750\ttotal: 51m 7s\tremaining: 15m 42s\n",
      "153:\tlearn: 48.2195346\ttotal: 51m 27s\tremaining: 15m 22s\n",
      "154:\tlearn: 48.2015186\ttotal: 51m 47s\tremaining: 15m 2s\n",
      "155:\tlearn: 48.1820434\ttotal: 52m 7s\tremaining: 14m 42s\n",
      "156:\tlearn: 48.1578584\ttotal: 52m 27s\tremaining: 14m 22s\n",
      "157:\tlearn: 48.1452443\ttotal: 52m 47s\tremaining: 14m 2s\n",
      "158:\tlearn: 48.1246183\ttotal: 53m 8s\tremaining: 13m 42s\n",
      "159:\tlearn: 48.1080506\ttotal: 53m 28s\tremaining: 13m 22s\n",
      "160:\tlearn: 48.0769884\ttotal: 53m 48s\tremaining: 13m 2s\n",
      "161:\tlearn: 48.0579009\ttotal: 54m 9s\tremaining: 12m 42s\n",
      "162:\tlearn: 48.0406157\ttotal: 54m 30s\tremaining: 12m 22s\n",
      "163:\tlearn: 48.0221838\ttotal: 54m 50s\tremaining: 12m 2s\n",
      "164:\tlearn: 48.0064832\ttotal: 55m 10s\tremaining: 11m 42s\n",
      "165:\tlearn: 47.9887966\ttotal: 55m 30s\tremaining: 11m 22s\n",
      "166:\tlearn: 47.9783831\ttotal: 55m 49s\tremaining: 11m 1s\n",
      "167:\tlearn: 47.9628472\ttotal: 56m 9s\tremaining: 10m 41s\n",
      "168:\tlearn: 47.9469498\ttotal: 56m 28s\tremaining: 10m 21s\n",
      "169:\tlearn: 47.9302161\ttotal: 56m 48s\tremaining: 10m 1s\n",
      "170:\tlearn: 47.9138187\ttotal: 57m 8s\tremaining: 9m 41s\n",
      "171:\tlearn: 47.8986865\ttotal: 57m 28s\tremaining: 9m 21s\n",
      "172:\tlearn: 47.8856203\ttotal: 57m 49s\tremaining: 9m 1s\n",
      "173:\tlearn: 47.8707280\ttotal: 58m 9s\tremaining: 8m 41s\n",
      "174:\tlearn: 47.8557729\ttotal: 58m 29s\tremaining: 8m 21s\n",
      "175:\tlearn: 47.8391429\ttotal: 58m 49s\tremaining: 8m 1s\n",
      "176:\tlearn: 47.8247585\ttotal: 59m 9s\tremaining: 7m 41s\n",
      "177:\tlearn: 47.8121696\ttotal: 59m 28s\tremaining: 7m 21s\n",
      "178:\tlearn: 47.7991464\ttotal: 59m 48s\tremaining: 7m 1s\n",
      "179:\tlearn: 47.7825872\ttotal: 1h 8s\tremaining: 6m 40s\n",
      "180:\tlearn: 47.7641068\ttotal: 1h 28s\tremaining: 6m 20s\n",
      "181:\tlearn: 47.7526977\ttotal: 1h 48s\tremaining: 6m\n",
      "182:\tlearn: 47.7397267\ttotal: 1h 1m 8s\tremaining: 5m 40s\n",
      "183:\tlearn: 47.7253955\ttotal: 1h 1m 28s\tremaining: 5m 20s\n",
      "184:\tlearn: 47.7081436\ttotal: 1h 1m 48s\tremaining: 5m\n",
      "185:\tlearn: 47.6896282\ttotal: 1h 2m 8s\tremaining: 4m 40s\n",
      "186:\tlearn: 47.6757427\ttotal: 1h 2m 28s\tremaining: 4m 20s\n",
      "187:\tlearn: 47.6600783\ttotal: 1h 2m 48s\tremaining: 4m\n",
      "188:\tlearn: 47.6487427\ttotal: 1h 3m 8s\tremaining: 3m 40s\n",
      "189:\tlearn: 47.6328002\ttotal: 1h 3m 28s\tremaining: 3m 20s\n",
      "190:\tlearn: 47.6159284\ttotal: 1h 3m 48s\tremaining: 3m\n",
      "191:\tlearn: 47.6028005\ttotal: 1h 4m 8s\tremaining: 2m 40s\n",
      "192:\tlearn: 47.5892403\ttotal: 1h 4m 28s\tremaining: 2m 20s\n",
      "193:\tlearn: 47.5753638\ttotal: 1h 4m 49s\tremaining: 2m\n",
      "194:\tlearn: 47.5603210\ttotal: 1h 5m 9s\tremaining: 1m 40s\n",
      "195:\tlearn: 47.5485012\ttotal: 1h 5m 29s\tremaining: 1m 20s\n",
      "196:\tlearn: 47.5365297\ttotal: 1h 5m 49s\tremaining: 1m\n",
      "197:\tlearn: 47.5228586\ttotal: 1h 6m 10s\tremaining: 40.1s\n",
      "198:\tlearn: 47.5102943\ttotal: 1h 6m 29s\tremaining: 20s\n",
      "199:\tlearn: 47.4951502\ttotal: 1h 6m 49s\tremaining: 0us\n",
      "2 0.6684446198641047\n",
      "Train...\n",
      "0:\tlearn: 74.4962350\ttotal: 20.3s\tremaining: 1h 7m 14s\n",
      "1:\tlearn: 72.3508744\ttotal: 40.4s\tremaining: 1h 6m 36s\n",
      "2:\tlearn: 70.4697048\ttotal: 1m\tremaining: 1h 6m 18s\n",
      "3:\tlearn: 68.8220109\ttotal: 1m 20s\tremaining: 1h 5m 37s\n",
      "4:\tlearn: 67.2763328\ttotal: 1m 40s\tremaining: 1h 5m 35s\n",
      "5:\tlearn: 66.0012822\ttotal: 2m\tremaining: 1h 5m 5s\n",
      "6:\tlearn: 64.8339909\ttotal: 2m 21s\tremaining: 1h 4m 50s\n",
      "7:\tlearn: 63.7903613\ttotal: 2m 41s\tremaining: 1h 4m 37s\n",
      "8:\tlearn: 62.8433759\ttotal: 3m 1s\tremaining: 1h 4m 18s\n",
      "9:\tlearn: 62.0078555\ttotal: 3m 21s\tremaining: 1h 3m 49s\n",
      "10:\tlearn: 61.2622559\ttotal: 3m 41s\tremaining: 1h 3m 31s\n",
      "11:\tlearn: 60.6461037\ttotal: 4m 2s\tremaining: 1h 3m 12s\n",
      "12:\tlearn: 60.0947880\ttotal: 4m 21s\tremaining: 1h 2m 43s\n",
      "13:\tlearn: 59.5344129\ttotal: 4m 41s\tremaining: 1h 2m 20s\n",
      "14:\tlearn: 59.0435420\ttotal: 5m 1s\tremaining: 1h 1m 55s\n",
      "15:\tlearn: 58.6192091\ttotal: 5m 21s\tremaining: 1h 1m 35s\n",
      "16:\tlearn: 58.2041876\ttotal: 5m 43s\tremaining: 1h 1m 36s\n",
      "17:\tlearn: 57.7993540\ttotal: 6m 3s\tremaining: 1h 1m 11s\n",
      "18:\tlearn: 57.4367146\ttotal: 6m 23s\tremaining: 1h 53s\n",
      "19:\tlearn: 57.1099815\ttotal: 6m 43s\tremaining: 1h 33s\n",
      "20:\tlearn: 56.7695907\ttotal: 7m 3s\tremaining: 1h 10s\n",
      "21:\tlearn: 56.5069338\ttotal: 7m 23s\tremaining: 59m 50s\n",
      "22:\tlearn: 56.2030268\ttotal: 7m 43s\tremaining: 59m 26s\n",
      "23:\tlearn: 55.9508203\ttotal: 8m 3s\tremaining: 59m 8s\n",
      "24:\tlearn: 55.7003708\ttotal: 8m 24s\tremaining: 58m 48s\n",
      "25:\tlearn: 55.4450949\ttotal: 8m 44s\tremaining: 58m 27s\n",
      "26:\tlearn: 55.1977753\ttotal: 9m 4s\tremaining: 58m 10s\n",
      "27:\tlearn: 55.0150008\ttotal: 9m 24s\tremaining: 57m 48s\n",
      "28:\tlearn: 54.7847548\ttotal: 9m 44s\tremaining: 57m 28s\n",
      "29:\tlearn: 54.5968297\ttotal: 10m 12s\tremaining: 57m 49s\n",
      "30:\tlearn: 54.4187992\ttotal: 10m 38s\tremaining: 58m\n",
      "31:\tlearn: 54.2375161\ttotal: 10m 58s\tremaining: 57m 39s\n",
      "32:\tlearn: 54.0864274\ttotal: 11m 18s\tremaining: 57m 13s\n",
      "33:\tlearn: 53.9265568\ttotal: 11m 38s\tremaining: 56m 52s\n",
      "34:\tlearn: 53.7573752\ttotal: 11m 58s\tremaining: 56m 29s\n",
      "35:\tlearn: 53.6088803\ttotal: 12m 19s\tremaining: 56m 7s\n",
      "36:\tlearn: 53.4543456\ttotal: 12m 39s\tremaining: 55m 46s\n",
      "37:\tlearn: 53.3173366\ttotal: 12m 59s\tremaining: 55m 23s\n",
      "38:\tlearn: 53.1797737\ttotal: 13m 19s\tremaining: 55m 1s\n",
      "39:\tlearn: 53.0736090\ttotal: 13m 39s\tremaining: 54m 38s\n",
      "40:\tlearn: 52.9491945\ttotal: 13m 59s\tremaining: 54m 14s\n",
      "41:\tlearn: 52.8359071\ttotal: 14m 19s\tremaining: 53m 53s\n",
      "42:\tlearn: 52.7269708\ttotal: 14m 39s\tremaining: 53m 32s\n",
      "43:\tlearn: 52.6166170\ttotal: 14m 59s\tremaining: 53m 9s\n",
      "44:\tlearn: 52.5160323\ttotal: 15m 19s\tremaining: 52m 48s\n",
      "45:\tlearn: 52.4225450\ttotal: 15m 39s\tremaining: 52m 26s\n",
      "46:\tlearn: 52.3235367\ttotal: 16m\tremaining: 52m 5s\n",
      "47:\tlearn: 52.2329544\ttotal: 16m 20s\tremaining: 51m 44s\n",
      "48:\tlearn: 52.1426431\ttotal: 16m 40s\tremaining: 51m 23s\n",
      "49:\tlearn: 52.0633463\ttotal: 17m 1s\tremaining: 51m 3s\n",
      "50:\tlearn: 51.9840707\ttotal: 17m 21s\tremaining: 50m 43s\n",
      "51:\tlearn: 51.9012120\ttotal: 17m 43s\tremaining: 50m 25s\n",
      "52:\tlearn: 51.8169135\ttotal: 18m 3s\tremaining: 50m 5s\n",
      "53:\tlearn: 51.7338636\ttotal: 18m 24s\tremaining: 49m 44s\n",
      "54:\tlearn: 51.6605912\ttotal: 18m 44s\tremaining: 49m 24s\n",
      "55:\tlearn: 51.5858100\ttotal: 19m 4s\tremaining: 49m 3s\n",
      "56:\tlearn: 51.5255888\ttotal: 19m 24s\tremaining: 48m 42s\n",
      "57:\tlearn: 51.4546495\ttotal: 19m 45s\tremaining: 48m 21s\n",
      "58:\tlearn: 51.3860545\ttotal: 20m 5s\tremaining: 48m\n",
      "59:\tlearn: 51.3187368\ttotal: 20m 25s\tremaining: 47m 39s\n",
      "60:\tlearn: 51.2505269\ttotal: 20m 58s\tremaining: 47m 47s\n",
      "61:\tlearn: 51.1896843\ttotal: 21m 20s\tremaining: 47m 30s\n",
      "62:\tlearn: 51.1386162\ttotal: 21m 40s\tremaining: 47m 8s\n",
      "63:\tlearn: 51.0740974\ttotal: 22m\tremaining: 46m 46s\n",
      "64:\tlearn: 51.0275038\ttotal: 22m 20s\tremaining: 46m 24s\n",
      "65:\tlearn: 50.9639245\ttotal: 22m 41s\tremaining: 46m 3s\n",
      "66:\tlearn: 50.8901345\ttotal: 23m\tremaining: 45m 40s\n",
      "67:\tlearn: 50.8346755\ttotal: 23m 20s\tremaining: 45m 19s\n",
      "68:\tlearn: 50.7730408\ttotal: 23m 41s\tremaining: 44m 57s\n",
      "69:\tlearn: 50.7166782\ttotal: 24m 1s\tremaining: 44m 36s\n",
      "70:\tlearn: 50.6699430\ttotal: 24m 21s\tremaining: 44m 15s\n",
      "71:\tlearn: 50.6175707\ttotal: 24m 41s\tremaining: 43m 53s\n",
      "72:\tlearn: 50.5664380\ttotal: 25m 1s\tremaining: 43m 32s\n",
      "73:\tlearn: 50.5223023\ttotal: 25m 22s\tremaining: 43m 11s\n",
      "74:\tlearn: 50.4535874\ttotal: 25m 42s\tremaining: 42m 50s\n",
      "75:\tlearn: 50.4121533\ttotal: 26m 2s\tremaining: 42m 28s\n",
      "76:\tlearn: 50.3649894\ttotal: 26m 22s\tremaining: 42m 7s\n",
      "77:\tlearn: 50.3106790\ttotal: 26m 42s\tremaining: 41m 46s\n",
      "78:\tlearn: 50.2679200\ttotal: 27m 2s\tremaining: 41m 25s\n",
      "79:\tlearn: 50.2310087\ttotal: 27m 22s\tremaining: 41m 4s\n",
      "80:\tlearn: 50.1947530\ttotal: 27m 42s\tremaining: 40m 42s\n",
      "81:\tlearn: 50.1551974\ttotal: 28m 2s\tremaining: 40m 21s\n",
      "82:\tlearn: 50.1219698\ttotal: 28m 22s\tremaining: 39m 59s\n",
      "83:\tlearn: 50.0969417\ttotal: 28m 42s\tremaining: 39m 38s\n",
      "84:\tlearn: 50.0618370\ttotal: 29m 2s\tremaining: 39m 17s\n",
      "85:\tlearn: 50.0228421\ttotal: 29m 22s\tremaining: 38m 56s\n",
      "86:\tlearn: 49.9877923\ttotal: 29m 42s\tremaining: 38m 35s\n",
      "87:\tlearn: 49.9577460\ttotal: 30m 2s\tremaining: 38m 14s\n",
      "88:\tlearn: 49.9183666\ttotal: 30m 22s\tremaining: 37m 53s\n",
      "89:\tlearn: 49.8940075\ttotal: 30m 43s\tremaining: 37m 32s\n",
      "90:\tlearn: 49.8500931\ttotal: 31m 3s\tremaining: 37m 11s\n",
      "91:\tlearn: 49.8194807\ttotal: 31m 23s\tremaining: 36m 51s\n",
      "92:\tlearn: 49.7918808\ttotal: 31m 43s\tremaining: 36m 29s\n",
      "93:\tlearn: 49.7613501\ttotal: 32m 3s\tremaining: 36m 8s\n",
      "94:\tlearn: 49.7224848\ttotal: 32m 23s\tremaining: 35m 47s\n",
      "95:\tlearn: 49.6835519\ttotal: 32m 44s\tremaining: 35m 27s\n",
      "96:\tlearn: 49.6504309\ttotal: 33m 4s\tremaining: 35m 7s\n",
      "97:\tlearn: 49.6235606\ttotal: 33m 24s\tremaining: 34m 46s\n",
      "98:\tlearn: 49.6015989\ttotal: 33m 44s\tremaining: 34m 25s\n",
      "99:\tlearn: 49.5760528\ttotal: 34m 4s\tremaining: 34m 4s\n",
      "100:\tlearn: 49.5392258\ttotal: 34m 24s\tremaining: 33m 44s\n",
      "101:\tlearn: 49.5064428\ttotal: 34m 44s\tremaining: 33m 22s\n",
      "102:\tlearn: 49.4675319\ttotal: 35m 4s\tremaining: 33m 1s\n",
      "103:\tlearn: 49.4398600\ttotal: 35m 24s\tremaining: 32m 41s\n",
      "104:\tlearn: 49.4134470\ttotal: 35m 43s\tremaining: 32m 19s\n",
      "105:\tlearn: 49.3820845\ttotal: 36m 4s\tremaining: 31m 59s\n",
      "106:\tlearn: 49.3525017\ttotal: 36m 24s\tremaining: 31m 38s\n",
      "107:\tlearn: 49.3251000\ttotal: 36m 44s\tremaining: 31m 17s\n",
      "108:\tlearn: 49.2941139\ttotal: 37m 4s\tremaining: 30m 57s\n",
      "109:\tlearn: 49.2694845\ttotal: 37m 24s\tremaining: 30m 36s\n",
      "110:\tlearn: 49.2473233\ttotal: 37m 44s\tremaining: 30m 15s\n",
      "111:\tlearn: 49.2264232\ttotal: 38m 3s\tremaining: 29m 54s\n",
      "112:\tlearn: 49.1975146\ttotal: 38m 23s\tremaining: 29m 33s\n",
      "113:\tlearn: 49.1700065\ttotal: 38m 44s\tremaining: 29m 13s\n",
      "114:\tlearn: 49.1366538\ttotal: 39m 4s\tremaining: 28m 52s\n",
      "115:\tlearn: 49.1101239\ttotal: 39m 23s\tremaining: 28m 31s\n",
      "116:\tlearn: 49.0793925\ttotal: 39m 44s\tremaining: 28m 11s\n",
      "117:\tlearn: 49.0586218\ttotal: 40m 3s\tremaining: 27m 50s\n",
      "118:\tlearn: 49.0345760\ttotal: 40m 23s\tremaining: 27m 29s\n",
      "119:\tlearn: 49.0157555\ttotal: 40m 43s\tremaining: 27m 8s\n",
      "120:\tlearn: 48.9946485\ttotal: 41m 2s\tremaining: 26m 47s\n",
      "121:\tlearn: 48.9666235\ttotal: 41m 22s\tremaining: 26m 27s\n",
      "122:\tlearn: 48.9351230\ttotal: 41m 42s\tremaining: 26m 6s\n",
      "123:\tlearn: 48.9102900\ttotal: 42m 2s\tremaining: 25m 46s\n",
      "124:\tlearn: 48.8892244\ttotal: 42m 22s\tremaining: 25m 25s\n",
      "125:\tlearn: 48.8726850\ttotal: 42m 41s\tremaining: 25m 4s\n",
      "126:\tlearn: 48.8459259\ttotal: 43m 1s\tremaining: 24m 43s\n",
      "127:\tlearn: 48.8213239\ttotal: 43m 21s\tremaining: 24m 23s\n",
      "128:\tlearn: 48.8010814\ttotal: 43m 41s\tremaining: 24m 2s\n",
      "129:\tlearn: 48.7862032\ttotal: 44m 1s\tremaining: 23m 42s\n",
      "130:\tlearn: 48.7518815\ttotal: 44m 21s\tremaining: 23m 21s\n",
      "131:\tlearn: 48.7298262\ttotal: 44m 40s\tremaining: 23m\n",
      "132:\tlearn: 48.7082581\ttotal: 45m\tremaining: 22m 40s\n",
      "133:\tlearn: 48.6851923\ttotal: 45m 20s\tremaining: 22m 19s\n",
      "134:\tlearn: 48.6658235\ttotal: 45m 40s\tremaining: 21m 59s\n",
      "135:\tlearn: 48.6355055\ttotal: 46m\tremaining: 21m 39s\n",
      "136:\tlearn: 48.6147430\ttotal: 46m 20s\tremaining: 21m 18s\n",
      "137:\tlearn: 48.5947577\ttotal: 46m 40s\tremaining: 20m 58s\n",
      "138:\tlearn: 48.5775824\ttotal: 47m\tremaining: 20m 37s\n",
      "139:\tlearn: 48.5550675\ttotal: 47m 20s\tremaining: 20m 17s\n",
      "140:\tlearn: 48.5329272\ttotal: 47m 40s\tremaining: 19m 56s\n",
      "141:\tlearn: 48.5114594\ttotal: 47m 59s\tremaining: 19m 36s\n",
      "142:\tlearn: 48.4961780\ttotal: 48m 19s\tremaining: 19m 15s\n",
      "143:\tlearn: 48.4683336\ttotal: 48m 39s\tremaining: 18m 55s\n",
      "144:\tlearn: 48.4518554\ttotal: 48m 59s\tremaining: 18m 34s\n",
      "145:\tlearn: 48.4338041\ttotal: 49m 19s\tremaining: 18m 14s\n",
      "146:\tlearn: 48.4145067\ttotal: 49m 38s\tremaining: 17m 53s\n",
      "147:\tlearn: 48.3954162\ttotal: 49m 58s\tremaining: 17m 33s\n",
      "148:\tlearn: 48.3792637\ttotal: 50m 18s\tremaining: 17m 13s\n",
      "149:\tlearn: 48.3567651\ttotal: 50m 38s\tremaining: 16m 52s\n",
      "150:\tlearn: 48.3306454\ttotal: 50m 58s\tremaining: 16m 32s\n",
      "151:\tlearn: 48.3118855\ttotal: 51m 18s\tremaining: 16m 12s\n",
      "152:\tlearn: 48.2962843\ttotal: 51m 37s\tremaining: 15m 51s\n",
      "153:\tlearn: 48.2757307\ttotal: 51m 57s\tremaining: 15m 31s\n",
      "154:\tlearn: 48.2518440\ttotal: 52m 17s\tremaining: 15m 10s\n",
      "155:\tlearn: 48.2337593\ttotal: 52m 36s\tremaining: 14m 50s\n",
      "156:\tlearn: 48.2153551\ttotal: 52m 56s\tremaining: 14m 30s\n",
      "157:\tlearn: 48.1970021\ttotal: 53m 16s\tremaining: 14m 9s\n",
      "158:\tlearn: 48.1765920\ttotal: 53m 36s\tremaining: 13m 49s\n",
      "159:\tlearn: 48.1611885\ttotal: 53m 56s\tremaining: 13m 29s\n",
      "160:\tlearn: 48.1409090\ttotal: 54m 15s\tremaining: 13m 8s\n",
      "161:\tlearn: 48.1213725\ttotal: 54m 35s\tremaining: 12m 48s\n",
      "162:\tlearn: 48.1048800\ttotal: 54m 55s\tremaining: 12m 27s\n",
      "163:\tlearn: 48.0827320\ttotal: 55m 14s\tremaining: 12m 7s\n",
      "164:\tlearn: 48.0665179\ttotal: 55m 34s\tremaining: 11m 47s\n",
      "165:\tlearn: 48.0436419\ttotal: 55m 54s\tremaining: 11m 27s\n",
      "166:\tlearn: 48.0285205\ttotal: 56m 14s\tremaining: 11m 6s\n",
      "167:\tlearn: 48.0153756\ttotal: 56m 34s\tremaining: 10m 46s\n",
      "168:\tlearn: 47.9962997\ttotal: 56m 53s\tremaining: 10m 26s\n",
      "169:\tlearn: 47.9778862\ttotal: 57m 14s\tremaining: 10m 6s\n",
      "170:\tlearn: 47.9625311\ttotal: 57m 33s\tremaining: 9m 45s\n",
      "171:\tlearn: 47.9520430\ttotal: 57m 53s\tremaining: 9m 25s\n",
      "172:\tlearn: 47.9405511\ttotal: 58m 13s\tremaining: 9m 5s\n",
      "173:\tlearn: 47.9258564\ttotal: 58m 32s\tremaining: 8m 44s\n",
      "174:\tlearn: 47.9153464\ttotal: 58m 51s\tremaining: 8m 24s\n",
      "175:\tlearn: 47.8966938\ttotal: 59m 11s\tremaining: 8m 4s\n",
      "176:\tlearn: 47.8794314\ttotal: 59m 30s\tremaining: 7m 44s\n",
      "177:\tlearn: 47.8660983\ttotal: 59m 50s\tremaining: 7m 23s\n",
      "178:\tlearn: 47.8538963\ttotal: 1h 10s\tremaining: 7m 3s\n",
      "179:\tlearn: 47.8322400\ttotal: 1h 30s\tremaining: 6m 43s\n",
      "180:\tlearn: 47.8181359\ttotal: 1h 50s\tremaining: 6m 23s\n",
      "181:\tlearn: 47.8021581\ttotal: 1h 1m 10s\tremaining: 6m 3s\n",
      "182:\tlearn: 47.7815660\ttotal: 1h 1m 30s\tremaining: 5m 42s\n",
      "183:\tlearn: 47.7686878\ttotal: 1h 1m 50s\tremaining: 5m 22s\n",
      "184:\tlearn: 47.7531018\ttotal: 1h 2m 11s\tremaining: 5m 2s\n",
      "185:\tlearn: 47.7324716\ttotal: 1h 2m 31s\tremaining: 4m 42s\n",
      "186:\tlearn: 47.7188592\ttotal: 1h 2m 51s\tremaining: 4m 22s\n",
      "187:\tlearn: 47.7024654\ttotal: 1h 3m 11s\tremaining: 4m 2s\n",
      "188:\tlearn: 47.6920531\ttotal: 1h 3m 31s\tremaining: 3m 41s\n",
      "189:\tlearn: 47.6747832\ttotal: 1h 3m 51s\tremaining: 3m 21s\n",
      "190:\tlearn: 47.6618387\ttotal: 1h 4m 11s\tremaining: 3m 1s\n",
      "191:\tlearn: 47.6485795\ttotal: 1h 4m 31s\tremaining: 2m 41s\n",
      "192:\tlearn: 47.6360293\ttotal: 1h 4m 51s\tremaining: 2m 21s\n",
      "193:\tlearn: 47.6226878\ttotal: 1h 5m 11s\tremaining: 2m\n",
      "194:\tlearn: 47.6109952\ttotal: 1h 5m 31s\tremaining: 1m 40s\n",
      "195:\tlearn: 47.5971678\ttotal: 1h 5m 51s\tremaining: 1m 20s\n",
      "196:\tlearn: 47.5798253\ttotal: 1h 6m 11s\tremaining: 1m\n",
      "197:\tlearn: 47.5621715\ttotal: 1h 6m 31s\tremaining: 40.3s\n",
      "198:\tlearn: 47.5485907\ttotal: 1h 6m 51s\tremaining: 20.2s\n",
      "199:\tlearn: 47.5379635\ttotal: 1h 7m 11s\tremaining: 0us\n",
      "3 0.6676899623778351\n",
      "Train...\n",
      "0:\tlearn: 74.5117100\ttotal: 19.9s\tremaining: 1h 5m 54s\n",
      "1:\tlearn: 72.4104317\ttotal: 39.9s\tremaining: 1h 5m 55s\n",
      "2:\tlearn: 70.5834956\ttotal: 59.5s\tremaining: 1h 5m 8s\n",
      "3:\tlearn: 68.9018040\ttotal: 1m 19s\tremaining: 1h 5m 5s\n",
      "4:\tlearn: 67.4580136\ttotal: 1m 39s\tremaining: 1h 4m 41s\n",
      "5:\tlearn: 66.0869527\ttotal: 1m 59s\tremaining: 1h 4m 22s\n",
      "6:\tlearn: 64.9351398\ttotal: 2m 19s\tremaining: 1h 4m 11s\n",
      "7:\tlearn: 63.8689999\ttotal: 2m 39s\tremaining: 1h 3m 59s\n",
      "8:\tlearn: 62.9096649\ttotal: 3m\tremaining: 1h 3m 48s\n",
      "9:\tlearn: 62.0915397\ttotal: 3m 20s\tremaining: 1h 3m 37s\n",
      "10:\tlearn: 61.3555638\ttotal: 3m 41s\tremaining: 1h 3m 20s\n",
      "11:\tlearn: 60.6624481\ttotal: 4m 1s\tremaining: 1h 3m 3s\n",
      "12:\tlearn: 60.0827799\ttotal: 4m 21s\tremaining: 1h 2m 42s\n",
      "13:\tlearn: 59.5456347\ttotal: 4m 41s\tremaining: 1h 2m 21s\n",
      "14:\tlearn: 59.0967266\ttotal: 5m 1s\tremaining: 1h 2m 4s\n",
      "15:\tlearn: 58.6606945\ttotal: 5m 22s\tremaining: 1h 1m 48s\n",
      "16:\tlearn: 58.2503791\ttotal: 5m 42s\tremaining: 1h 1m 24s\n",
      "17:\tlearn: 57.8411899\ttotal: 6m 2s\tremaining: 1h 1m 9s\n",
      "18:\tlearn: 57.4546022\ttotal: 6m 23s\tremaining: 1h 51s\n",
      "19:\tlearn: 57.0977919\ttotal: 6m 43s\tremaining: 1h 30s\n",
      "20:\tlearn: 56.7514460\ttotal: 7m 3s\tremaining: 1h 13s\n",
      "21:\tlearn: 56.4522952\ttotal: 7m 24s\tremaining: 59m 52s\n",
      "22:\tlearn: 56.2039053\ttotal: 7m 44s\tremaining: 59m 31s\n",
      "23:\tlearn: 55.9404378\ttotal: 8m 4s\tremaining: 59m 15s\n",
      "24:\tlearn: 55.6587133\ttotal: 8m 25s\tremaining: 58m 57s\n",
      "25:\tlearn: 55.4074437\ttotal: 8m 46s\tremaining: 58m 41s\n",
      "26:\tlearn: 55.1949304\ttotal: 9m 6s\tremaining: 58m 20s\n",
      "27:\tlearn: 55.0032098\ttotal: 9m 26s\tremaining: 57m 59s\n",
      "28:\tlearn: 54.7886222\ttotal: 9m 47s\tremaining: 57m 43s\n",
      "29:\tlearn: 54.6124331\ttotal: 10m 25s\tremaining: 59m 7s\n",
      "30:\tlearn: 54.4089398\ttotal: 10m 48s\tremaining: 58m 52s\n",
      "31:\tlearn: 54.2534325\ttotal: 11m 8s\tremaining: 58m 27s\n",
      "32:\tlearn: 54.0807471\ttotal: 11m 28s\tremaining: 58m 1s\n",
      "33:\tlearn: 53.9135486\ttotal: 11m 48s\tremaining: 57m 38s\n",
      "34:\tlearn: 53.7491793\ttotal: 12m 8s\tremaining: 57m 15s\n",
      "35:\tlearn: 53.6068290\ttotal: 12m 29s\tremaining: 56m 53s\n",
      "36:\tlearn: 53.4670432\ttotal: 12m 49s\tremaining: 56m 29s\n",
      "37:\tlearn: 53.3103162\ttotal: 13m 9s\tremaining: 56m 6s\n",
      "38:\tlearn: 53.1878610\ttotal: 13m 30s\tremaining: 55m 44s\n",
      "39:\tlearn: 53.0655516\ttotal: 13m 50s\tremaining: 55m 22s\n",
      "40:\tlearn: 52.9472950\ttotal: 14m 10s\tremaining: 54m 59s\n",
      "41:\tlearn: 52.8300100\ttotal: 14m 31s\tremaining: 54m 37s\n",
      "42:\tlearn: 52.7205973\ttotal: 14m 51s\tremaining: 54m 16s\n",
      "43:\tlearn: 52.6162631\ttotal: 15m 11s\tremaining: 53m 52s\n",
      "44:\tlearn: 52.5069563\ttotal: 15m 32s\tremaining: 53m 31s\n",
      "45:\tlearn: 52.4130701\ttotal: 15m 52s\tremaining: 53m 8s\n",
      "46:\tlearn: 52.2956135\ttotal: 16m 12s\tremaining: 52m 46s\n",
      "47:\tlearn: 52.1914966\ttotal: 16m 33s\tremaining: 52m 25s\n",
      "48:\tlearn: 52.1104196\ttotal: 16m 52s\tremaining: 52m 1s\n",
      "49:\tlearn: 52.0273509\ttotal: 17m 13s\tremaining: 51m 39s\n",
      "50:\tlearn: 51.9533994\ttotal: 17m 32s\tremaining: 51m 16s\n",
      "51:\tlearn: 51.8839161\ttotal: 17m 52s\tremaining: 50m 52s\n",
      "52:\tlearn: 51.7986422\ttotal: 18m 12s\tremaining: 50m 31s\n",
      "53:\tlearn: 51.7146322\ttotal: 18m 33s\tremaining: 50m 10s\n",
      "54:\tlearn: 51.6282761\ttotal: 18m 53s\tremaining: 49m 48s\n",
      "55:\tlearn: 51.5393598\ttotal: 19m 15s\tremaining: 49m 30s\n",
      "56:\tlearn: 51.4665319\ttotal: 19m 35s\tremaining: 49m 8s\n",
      "57:\tlearn: 51.3940453\ttotal: 19m 55s\tremaining: 48m 47s\n",
      "58:\tlearn: 51.3241733\ttotal: 20m 16s\tremaining: 48m 26s\n",
      "59:\tlearn: 51.2354119\ttotal: 20m 36s\tremaining: 48m 5s\n",
      "60:\tlearn: 51.1658368\ttotal: 20m 56s\tremaining: 47m 44s\n",
      "61:\tlearn: 51.1171147\ttotal: 21m 17s\tremaining: 47m 22s\n",
      "62:\tlearn: 51.0523349\ttotal: 21m 37s\tremaining: 47m\n",
      "63:\tlearn: 50.9887010\ttotal: 21m 57s\tremaining: 46m 39s\n",
      "64:\tlearn: 50.9377784\ttotal: 22m 17s\tremaining: 46m 18s\n",
      "65:\tlearn: 50.8846792\ttotal: 22m 37s\tremaining: 45m 57s\n",
      "66:\tlearn: 50.8387466\ttotal: 22m 58s\tremaining: 45m 35s\n",
      "67:\tlearn: 50.7856083\ttotal: 23m 17s\tremaining: 45m 13s\n",
      "68:\tlearn: 50.7321257\ttotal: 23m 38s\tremaining: 44m 52s\n",
      "69:\tlearn: 50.6809601\ttotal: 23m 58s\tremaining: 44m 30s\n",
      "70:\tlearn: 50.6217943\ttotal: 24m 18s\tremaining: 44m 10s\n",
      "71:\tlearn: 50.5623521\ttotal: 24m 38s\tremaining: 43m 49s\n",
      "72:\tlearn: 50.5124457\ttotal: 24m 59s\tremaining: 43m 28s\n",
      "73:\tlearn: 50.4812487\ttotal: 25m 18s\tremaining: 43m 5s\n",
      "74:\tlearn: 50.4384531\ttotal: 25m 38s\tremaining: 42m 44s\n",
      "75:\tlearn: 50.3846553\ttotal: 25m 58s\tremaining: 42m 23s\n",
      "76:\tlearn: 50.3356266\ttotal: 26m 18s\tremaining: 42m 2s\n",
      "77:\tlearn: 50.2916839\ttotal: 26m 38s\tremaining: 41m 40s\n",
      "78:\tlearn: 50.2517226\ttotal: 26m 59s\tremaining: 41m 19s\n",
      "79:\tlearn: 50.2225995\ttotal: 27m 19s\tremaining: 40m 58s\n",
      "80:\tlearn: 50.1822478\ttotal: 27m 39s\tremaining: 40m 37s\n",
      "81:\tlearn: 50.1368976\ttotal: 27m 58s\tremaining: 40m 16s\n",
      "82:\tlearn: 50.0992410\ttotal: 28m 19s\tremaining: 39m 55s\n",
      "83:\tlearn: 50.0734058\ttotal: 28m 39s\tremaining: 39m 33s\n",
      "84:\tlearn: 50.0360129\ttotal: 28m 58s\tremaining: 39m 12s\n",
      "85:\tlearn: 49.9935805\ttotal: 29m 19s\tremaining: 38m 52s\n",
      "86:\tlearn: 49.9631467\ttotal: 29m 39s\tremaining: 38m 31s\n",
      "87:\tlearn: 49.9324893\ttotal: 29m 59s\tremaining: 38m 10s\n",
      "88:\tlearn: 49.8970325\ttotal: 30m 19s\tremaining: 37m 49s\n",
      "89:\tlearn: 49.8721059\ttotal: 30m 39s\tremaining: 37m 28s\n",
      "90:\tlearn: 49.8339280\ttotal: 31m\tremaining: 37m 8s\n",
      "91:\tlearn: 49.8060080\ttotal: 31m 20s\tremaining: 36m 47s\n",
      "92:\tlearn: 49.7737739\ttotal: 31m 40s\tremaining: 36m 26s\n",
      "93:\tlearn: 49.7361536\ttotal: 32m\tremaining: 36m 5s\n",
      "94:\tlearn: 49.6956144\ttotal: 32m 20s\tremaining: 35m 44s\n",
      "95:\tlearn: 49.6590705\ttotal: 32m 40s\tremaining: 35m 23s\n",
      "96:\tlearn: 49.6271558\ttotal: 33m\tremaining: 35m 2s\n",
      "97:\tlearn: 49.5930425\ttotal: 33m 20s\tremaining: 34m 41s\n",
      "98:\tlearn: 49.5693565\ttotal: 33m 40s\tremaining: 34m 21s\n",
      "99:\tlearn: 49.5330496\ttotal: 34m\tremaining: 34m\n",
      "100:\tlearn: 49.5061572\ttotal: 34m 20s\tremaining: 33m 39s\n",
      "101:\tlearn: 49.4797333\ttotal: 34m 40s\tremaining: 33m 19s\n",
      "102:\tlearn: 49.4421631\ttotal: 35m 1s\tremaining: 32m 59s\n",
      "103:\tlearn: 49.4152504\ttotal: 35m 21s\tremaining: 32m 38s\n",
      "104:\tlearn: 49.3863849\ttotal: 35m 41s\tremaining: 32m 17s\n",
      "105:\tlearn: 49.3592268\ttotal: 36m 1s\tremaining: 31m 56s\n",
      "106:\tlearn: 49.3327945\ttotal: 36m 21s\tremaining: 31m 36s\n",
      "107:\tlearn: 49.2937157\ttotal: 36m 41s\tremaining: 31m 15s\n",
      "108:\tlearn: 49.2677530\ttotal: 37m 1s\tremaining: 30m 54s\n",
      "109:\tlearn: 49.2375520\ttotal: 37m 21s\tremaining: 30m 34s\n",
      "110:\tlearn: 49.2098233\ttotal: 37m 42s\tremaining: 30m 13s\n",
      "111:\tlearn: 49.1843397\ttotal: 38m 2s\tremaining: 29m 53s\n",
      "112:\tlearn: 49.1612139\ttotal: 38m 23s\tremaining: 29m 33s\n",
      "113:\tlearn: 49.1393149\ttotal: 38m 43s\tremaining: 29m 12s\n",
      "114:\tlearn: 49.1067440\ttotal: 39m 4s\tremaining: 28m 53s\n",
      "115:\tlearn: 49.0813312\ttotal: 39m 25s\tremaining: 28m 32s\n",
      "116:\tlearn: 49.0509045\ttotal: 39m 46s\tremaining: 28m 12s\n",
      "117:\tlearn: 49.0265467\ttotal: 40m 6s\tremaining: 27m 52s\n",
      "118:\tlearn: 49.0084880\ttotal: 40m 27s\tremaining: 27m 32s\n",
      "119:\tlearn: 48.9901486\ttotal: 40m 47s\tremaining: 27m 11s\n",
      "120:\tlearn: 48.9621323\ttotal: 41m 7s\tremaining: 26m 51s\n",
      "121:\tlearn: 48.9395943\ttotal: 41m 27s\tremaining: 26m 30s\n",
      "122:\tlearn: 48.9130961\ttotal: 41m 48s\tremaining: 26m 10s\n",
      "123:\tlearn: 48.8918031\ttotal: 42m 8s\tremaining: 25m 49s\n",
      "124:\tlearn: 48.8696836\ttotal: 42m 28s\tremaining: 25m 29s\n",
      "125:\tlearn: 48.8392421\ttotal: 42m 48s\tremaining: 25m 8s\n",
      "126:\tlearn: 48.8016843\ttotal: 43m 8s\tremaining: 24m 48s\n",
      "127:\tlearn: 48.7784425\ttotal: 43m 29s\tremaining: 24m 27s\n",
      "128:\tlearn: 48.7630496\ttotal: 43m 48s\tremaining: 24m 6s\n",
      "129:\tlearn: 48.7340092\ttotal: 44m 9s\tremaining: 23m 46s\n",
      "130:\tlearn: 48.7006275\ttotal: 44m 29s\tremaining: 23m 26s\n",
      "131:\tlearn: 48.6789057\ttotal: 44m 49s\tremaining: 23m 5s\n",
      "132:\tlearn: 48.6574752\ttotal: 45m 9s\tremaining: 22m 45s\n",
      "133:\tlearn: 48.6405682\ttotal: 45m 29s\tremaining: 22m 24s\n",
      "134:\tlearn: 48.6188475\ttotal: 45m 50s\tremaining: 22m 4s\n",
      "135:\tlearn: 48.5981689\ttotal: 46m 10s\tremaining: 21m 43s\n",
      "136:\tlearn: 48.5713604\ttotal: 46m 30s\tremaining: 21m 23s\n",
      "137:\tlearn: 48.5530799\ttotal: 46m 50s\tremaining: 21m 2s\n",
      "138:\tlearn: 48.5333120\ttotal: 47m 11s\tremaining: 20m 42s\n",
      "139:\tlearn: 48.5107375\ttotal: 47m 31s\tremaining: 20m 22s\n",
      "140:\tlearn: 48.4913886\ttotal: 47m 51s\tremaining: 20m 1s\n",
      "141:\tlearn: 48.4671613\ttotal: 48m 11s\tremaining: 19m 40s\n",
      "142:\tlearn: 48.4414287\ttotal: 48m 31s\tremaining: 19m 20s\n",
      "143:\tlearn: 48.4195728\ttotal: 48m 51s\tremaining: 19m\n",
      "144:\tlearn: 48.3940179\ttotal: 49m 11s\tremaining: 18m 39s\n",
      "145:\tlearn: 48.3715608\ttotal: 49m 32s\tremaining: 18m 19s\n",
      "146:\tlearn: 48.3498824\ttotal: 49m 52s\tremaining: 17m 58s\n",
      "147:\tlearn: 48.3352495\ttotal: 50m 11s\tremaining: 17m 38s\n",
      "148:\tlearn: 48.3175628\ttotal: 50m 32s\tremaining: 17m 17s\n",
      "149:\tlearn: 48.2960686\ttotal: 50m 51s\tremaining: 16m 57s\n",
      "150:\tlearn: 48.2776919\ttotal: 51m 12s\tremaining: 16m 36s\n",
      "151:\tlearn: 48.2589394\ttotal: 51m 32s\tremaining: 16m 16s\n",
      "152:\tlearn: 48.2436055\ttotal: 51m 51s\tremaining: 15m 55s\n",
      "153:\tlearn: 48.2229692\ttotal: 52m 11s\tremaining: 15m 35s\n",
      "154:\tlearn: 48.2061118\ttotal: 52m 31s\tremaining: 15m 15s\n",
      "155:\tlearn: 48.1926561\ttotal: 52m 51s\tremaining: 14m 54s\n",
      "156:\tlearn: 48.1811964\ttotal: 53m 10s\tremaining: 14m 33s\n",
      "157:\tlearn: 48.1616957\ttotal: 53m 30s\tremaining: 14m 13s\n",
      "158:\tlearn: 48.1449405\ttotal: 53m 50s\tremaining: 13m 53s\n",
      "159:\tlearn: 48.1282429\ttotal: 54m 10s\tremaining: 13m 32s\n",
      "160:\tlearn: 48.1107812\ttotal: 54m 29s\tremaining: 13m 12s\n",
      "161:\tlearn: 48.0949600\ttotal: 54m 49s\tremaining: 12m 51s\n",
      "162:\tlearn: 48.0815166\ttotal: 55m 9s\tremaining: 12m 31s\n",
      "163:\tlearn: 48.0598510\ttotal: 55m 30s\tremaining: 12m 10s\n",
      "164:\tlearn: 48.0369537\ttotal: 55m 50s\tremaining: 11m 50s\n",
      "165:\tlearn: 48.0169937\ttotal: 56m 10s\tremaining: 11m 30s\n",
      "166:\tlearn: 47.9986083\ttotal: 56m 30s\tremaining: 11m 9s\n",
      "167:\tlearn: 47.9840685\ttotal: 56m 49s\tremaining: 10m 49s\n",
      "168:\tlearn: 47.9714849\ttotal: 57m 9s\tremaining: 10m 29s\n",
      "169:\tlearn: 47.9586069\ttotal: 57m 29s\tremaining: 10m 8s\n",
      "170:\tlearn: 47.9367813\ttotal: 57m 50s\tremaining: 9m 48s\n",
      "171:\tlearn: 47.9223343\ttotal: 58m 10s\tremaining: 9m 28s\n",
      "172:\tlearn: 47.9029862\ttotal: 58m 30s\tremaining: 9m 7s\n",
      "173:\tlearn: 47.8845637\ttotal: 58m 50s\tremaining: 8m 47s\n",
      "174:\tlearn: 47.8692584\ttotal: 59m 10s\tremaining: 8m 27s\n",
      "175:\tlearn: 47.8501940\ttotal: 59m 31s\tremaining: 8m 7s\n",
      "176:\tlearn: 47.8364136\ttotal: 59m 51s\tremaining: 7m 46s\n",
      "177:\tlearn: 47.8192085\ttotal: 1h 11s\tremaining: 7m 26s\n",
      "178:\tlearn: 47.8059814\ttotal: 1h 31s\tremaining: 7m 5s\n",
      "179:\tlearn: 47.7934779\ttotal: 1h 51s\tremaining: 6m 45s\n",
      "180:\tlearn: 47.7774003\ttotal: 1h 1m 11s\tremaining: 6m 25s\n",
      "181:\tlearn: 47.7613809\ttotal: 1h 1m 31s\tremaining: 6m 5s\n",
      "182:\tlearn: 47.7449696\ttotal: 1h 1m 51s\tremaining: 5m 44s\n",
      "183:\tlearn: 47.7321610\ttotal: 1h 2m 11s\tremaining: 5m 24s\n",
      "184:\tlearn: 47.7238118\ttotal: 1h 2m 31s\tremaining: 5m 4s\n",
      "185:\tlearn: 47.7105618\ttotal: 1h 2m 51s\tremaining: 4m 43s\n",
      "186:\tlearn: 47.6979560\ttotal: 1h 3m 11s\tremaining: 4m 23s\n",
      "187:\tlearn: 47.6837394\ttotal: 1h 3m 31s\tremaining: 4m 3s\n",
      "188:\tlearn: 47.6682546\ttotal: 1h 3m 51s\tremaining: 3m 42s\n",
      "189:\tlearn: 47.6520798\ttotal: 1h 4m 11s\tremaining: 3m 22s\n",
      "190:\tlearn: 47.6373359\ttotal: 1h 4m 31s\tremaining: 3m 2s\n",
      "191:\tlearn: 47.6231300\ttotal: 1h 4m 51s\tremaining: 2m 42s\n",
      "192:\tlearn: 47.6058078\ttotal: 1h 5m 11s\tremaining: 2m 21s\n",
      "193:\tlearn: 47.5938218\ttotal: 1h 5m 30s\tremaining: 2m 1s\n",
      "194:\tlearn: 47.5777271\ttotal: 1h 5m 50s\tremaining: 1m 41s\n",
      "195:\tlearn: 47.5609850\ttotal: 1h 6m 10s\tremaining: 1m 21s\n",
      "196:\tlearn: 47.5457832\ttotal: 1h 6m 30s\tremaining: 1m\n",
      "197:\tlearn: 47.5238836\ttotal: 1h 6m 50s\tremaining: 40.5s\n",
      "198:\tlearn: 47.5076857\ttotal: 1h 7m 11s\tremaining: 20.3s\n",
      "199:\tlearn: 47.4978259\ttotal: 1h 7m 31s\tremaining: 0us\n",
      "4 0.6677329566892636\n"
     ]
    }
   ],
   "source": [
    "np.random.seed(42)\n",
    "all_row_indices = np.arange(train_inputs.shape[0])\n",
    "np.random.shuffle(all_row_indices)\n",
    "\n",
    "kf = KFold(n_splits=5, shuffle=True, random_state=42)\n",
    "\n",
    "index = 0\n",
    "score = []\n",
    "\n",
    "# model = Ridge(copy_X=False)\n",
    "d = train_inputs.shape[0]//n\n",
    "for i in range(0, n*d, d):\n",
    "    print(f'start [{i}:{i+d}]')\n",
    "    ind = all_row_indices[i:i+d]    \n",
    "    for idx_tr, idx_va in kf.split(ind):\n",
    "        X = train_inputs[ind]\n",
    "        Y = train_target[ind] #.todense()\n",
    "        Yva = train_targets[ind][idx_va]\n",
    "        Xtr, Xva = X[idx_tr], X[idx_va]\n",
    "        Ytr = Y[idx_tr]\n",
    "        del X, Y\n",
    "        gc.collect()\n",
    "        print('Train...')\n",
    "        model.fit(Xtr, Ytr)\n",
    "        del Xtr, Ytr\n",
    "        gc.collect()\n",
    "        s = correlation_score(Yva.todense(), model.predict(Xva)@pca2.components_)\n",
    "        score.append(s)\n",
    "        print(index, s)\n",
    "        del Xva, Yva\n",
    "        gc.collect()\n",
    "        pkl_filename = f\"model{index:02d}.pkl\"\n",
    "        index += 1\n",
    "        with open(pkl_filename, 'wb') as file:\n",
    "            pickle.dump(model, file)\n",
    "#         break\n",
    "#     break\n",
    "    gc.collect()"
   ]
  },
  {
   "cell_type": "code",
   "execution_count": 13,
   "id": "6c0fc929",
   "metadata": {
    "execution": {
     "iopub.execute_input": "2022-10-27T08:02:16.660119Z",
     "iopub.status.busy": "2022-10-27T08:02:16.659651Z",
     "iopub.status.idle": "2022-10-27T08:02:16.960483Z",
     "shell.execute_reply": "2022-10-27T08:02:16.959252Z"
    },
    "papermill": {
     "duration": 0.379443,
     "end_time": "2022-10-27T08:02:16.963602",
     "exception": false,
     "start_time": "2022-10-27T08:02:16.584159",
     "status": "completed"
    },
    "tags": []
   },
   "outputs": [
    {
     "data": {
      "text/plain": [
       "21"
      ]
     },
     "execution_count": 13,
     "metadata": {},
     "output_type": "execute_result"
    }
   ],
   "source": [
    "del train_target, train_inputs, train_targets\n",
    "gc.collect()"
   ]
  },
  {
   "cell_type": "markdown",
   "id": "3123afcf",
   "metadata": {
    "papermill": {
     "duration": 0.072767,
     "end_time": "2022-10-27T08:02:17.109203",
     "exception": false,
     "start_time": "2022-10-27T08:02:17.036436",
     "status": "completed"
    },
    "tags": []
   },
   "source": [
    "# Predicting"
   ]
  },
  {
   "cell_type": "code",
   "execution_count": 14,
   "id": "443be8e6",
   "metadata": {
    "execution": {
     "iopub.execute_input": "2022-10-27T08:02:17.271696Z",
     "iopub.status.busy": "2022-10-27T08:02:17.271294Z",
     "iopub.status.idle": "2022-10-27T08:03:52.445552Z",
     "shell.execute_reply": "2022-10-27T08:03:52.444108Z"
    },
    "papermill": {
     "duration": 95.338953,
     "end_time": "2022-10-27T08:03:52.522498",
     "exception": false,
     "start_time": "2022-10-27T08:02:17.183545",
     "status": "completed"
    },
    "tags": []
   },
   "outputs": [
    {
     "name": "stdout",
     "output_type": "stream",
     "text": [
      "CPU times: user 1min 15s, sys: 2.84 s, total: 1min 18s\n",
      "Wall time: 1min 35s\n"
     ]
    }
   ],
   "source": [
    "%%time\n",
    "multi_test_x = scipy.sparse.load_npz(\"../input/multimodal-single-cell-as-sparse-matrix/test_multi_inputs_values.sparse.npz\")\n",
    "multi_test_x = pca.transform(multi_test_x)"
   ]
  },
  {
   "cell_type": "code",
   "execution_count": 15,
   "id": "8b37075f",
   "metadata": {
    "execution": {
     "iopub.execute_input": "2022-10-27T08:03:52.670787Z",
     "iopub.status.busy": "2022-10-27T08:03:52.670352Z",
     "iopub.status.idle": "2022-10-27T08:03:52.675314Z",
     "shell.execute_reply": "2022-10-27T08:03:52.673908Z"
    },
    "papermill": {
     "duration": 0.081911,
     "end_time": "2022-10-27T08:03:52.677806",
     "exception": false,
     "start_time": "2022-10-27T08:03:52.595895",
     "status": "completed"
    },
    "tags": []
   },
   "outputs": [],
   "source": [
    "# test_sd = np.std(multi_test_x, axis=1).reshape(-1, 1)\n",
    "# test_sd[test_sd == 0] = 1\n",
    "# test_norm = (multi_test_x - np.mean(multi_test_x, axis=1).reshape(-1, 1)) / test_sd\n",
    "# test_norm = test_norm.astype(np.float16)\n",
    "# del multi_test_x\n",
    "# gc.collect()"
   ]
  },
  {
   "cell_type": "code",
   "execution_count": 16,
   "id": "6affb9db",
   "metadata": {
    "execution": {
     "iopub.execute_input": "2022-10-27T08:03:52.831565Z",
     "iopub.status.busy": "2022-10-27T08:03:52.831098Z",
     "iopub.status.idle": "2022-10-27T08:03:52.974472Z",
     "shell.execute_reply": "2022-10-27T08:03:52.973195Z"
    },
    "papermill": {
     "duration": 0.224034,
     "end_time": "2022-10-27T08:03:52.977277",
     "exception": false,
     "start_time": "2022-10-27T08:03:52.753243",
     "status": "completed"
    },
    "tags": []
   },
   "outputs": [
    {
     "data": {
      "text/plain": [
       "103"
      ]
     },
     "execution_count": 16,
     "metadata": {},
     "output_type": "execute_result"
    }
   ],
   "source": [
    "test_len = multi_test_x.shape[0]\n",
    "d = test_len//n\n",
    "x = []\n",
    "for i in range(n):\n",
    "    x.append(multi_test_x[i*d:i*d+d])\n",
    "del multi_test_x\n",
    "gc.collect()"
   ]
  },
  {
   "cell_type": "code",
   "execution_count": 17,
   "id": "d01f6abe",
   "metadata": {
    "execution": {
     "iopub.execute_input": "2022-10-27T08:03:53.127426Z",
     "iopub.status.busy": "2022-10-27T08:03:53.126674Z",
     "iopub.status.idle": "2022-10-27T08:03:53.132749Z",
     "shell.execute_reply": "2022-10-27T08:03:53.131839Z"
    },
    "papermill": {
     "duration": 0.083379,
     "end_time": "2022-10-27T08:03:53.135118",
     "exception": false,
     "start_time": "2022-10-27T08:03:53.051739",
     "status": "completed"
    },
    "tags": []
   },
   "outputs": [
    {
     "data": {
      "text/plain": [
       "5"
      ]
     },
     "execution_count": 17,
     "metadata": {},
     "output_type": "execute_result"
    }
   ],
   "source": [
    "index"
   ]
  },
  {
   "cell_type": "code",
   "execution_count": 18,
   "id": "3149ea74",
   "metadata": {
    "execution": {
     "iopub.execute_input": "2022-10-27T08:03:53.283569Z",
     "iopub.status.busy": "2022-10-27T08:03:53.283102Z",
     "iopub.status.idle": "2022-10-27T08:06:06.671923Z",
     "shell.execute_reply": "2022-10-27T08:06:06.670598Z"
    },
    "papermill": {
     "duration": 133.542562,
     "end_time": "2022-10-27T08:06:06.750611",
     "exception": false,
     "start_time": "2022-10-27T08:03:53.208049",
     "status": "completed"
    },
    "tags": []
   },
   "outputs": [
    {
     "name": "stdout",
     "output_type": "stream",
     "text": [
      "0 1 2 3 4 \n"
     ]
    },
    {
     "data": {
      "text/plain": [
       "0"
      ]
     },
     "execution_count": 18,
     "metadata": {},
     "output_type": "execute_result"
    }
   ],
   "source": [
    "preds = np.zeros((test_len, 23418), dtype='float16')\n",
    "for i,xx in enumerate(x):\n",
    "    for ind in range(index):\n",
    "        print(ind, end=' ')\n",
    "        with open(f'model{ind:02}.pkl', 'rb') as file:\n",
    "            model = pickle.load(file)\n",
    "        preds[i*d:i*d+d,:] += (model.predict(xx)@pca2.components_)/index\n",
    "        gc.collect()\n",
    "    print('')\n",
    "    del xx\n",
    "gc.collect()"
   ]
  },
  {
   "cell_type": "code",
   "execution_count": 19,
   "id": "704f8e4f",
   "metadata": {
    "execution": {
     "iopub.execute_input": "2022-10-27T08:06:06.912146Z",
     "iopub.status.busy": "2022-10-27T08:06:06.910606Z",
     "iopub.status.idle": "2022-10-27T08:06:07.043912Z",
     "shell.execute_reply": "2022-10-27T08:06:07.042604Z"
    },
    "papermill": {
     "duration": 0.215162,
     "end_time": "2022-10-27T08:06:07.046858",
     "exception": false,
     "start_time": "2022-10-27T08:06:06.831696",
     "status": "completed"
    },
    "tags": []
   },
   "outputs": [
    {
     "data": {
      "text/plain": [
       "21"
      ]
     },
     "execution_count": 19,
     "metadata": {},
     "output_type": "execute_result"
    }
   ],
   "source": [
    "del x\n",
    "gc.collect()"
   ]
  },
  {
   "cell_type": "code",
   "execution_count": 20,
   "id": "a8c4c3a5",
   "metadata": {
    "execution": {
     "iopub.execute_input": "2022-10-27T08:06:07.195842Z",
     "iopub.status.busy": "2022-10-27T08:06:07.194744Z",
     "iopub.status.idle": "2022-10-27T08:06:09.404870Z",
     "shell.execute_reply": "2022-10-27T08:06:09.403636Z"
    },
    "papermill": {
     "duration": 2.288783,
     "end_time": "2022-10-27T08:06:09.407761",
     "exception": false,
     "start_time": "2022-10-27T08:06:07.118978",
     "status": "completed"
    },
    "tags": []
   },
   "outputs": [],
   "source": [
    "np.save('preds.npy', preds)"
   ]
  },
  {
   "cell_type": "markdown",
   "id": "a21c71f7",
   "metadata": {
    "papermill": {
     "duration": 0.074656,
     "end_time": "2022-10-27T08:06:09.556395",
     "exception": false,
     "start_time": "2022-10-27T08:06:09.481739",
     "status": "completed"
    },
    "tags": []
   },
   "source": [
    "# Creating submission\n",
    "\n",
    "We load the cells that will have to appear in submission."
   ]
  },
  {
   "cell_type": "code",
   "execution_count": 21,
   "id": "72a95078",
   "metadata": {
    "execution": {
     "iopub.execute_input": "2022-10-27T08:06:09.707856Z",
     "iopub.status.busy": "2022-10-27T08:06:09.707420Z",
     "iopub.status.idle": "2022-10-27T08:07:11.190597Z",
     "shell.execute_reply": "2022-10-27T08:07:11.188664Z"
    },
    "papermill": {
     "duration": 61.638011,
     "end_time": "2022-10-27T08:07:11.268648",
     "exception": false,
     "start_time": "2022-10-27T08:06:09.630637",
     "status": "completed"
    },
    "tags": []
   },
   "outputs": [
    {
     "name": "stdout",
     "output_type": "stream",
     "text": [
      "CPU times: user 52.5 s, sys: 34.8 s, total: 1min 27s\n",
      "Wall time: 1min 1s\n"
     ]
    }
   ],
   "source": [
    "%%time\n",
    "# Read the table of rows and columns required for submission\n",
    "eval_ids = pd.read_parquet(\"../input/multimodal-single-cell-as-sparse-matrix/evaluation.parquet\")\n",
    "# Convert the string columns to more efficient categorical types\n",
    "#eval_ids.cell_id = eval_ids.cell_id.apply(lambda s: int(s, base=16))\n",
    "eval_ids.cell_id = eval_ids.cell_id.astype(pd.CategoricalDtype())\n",
    "eval_ids.gene_id = eval_ids.gene_id.astype(pd.CategoricalDtype())"
   ]
  },
  {
   "cell_type": "code",
   "execution_count": 22,
   "id": "ee41f894",
   "metadata": {
    "execution": {
     "iopub.execute_input": "2022-10-27T08:07:11.423526Z",
     "iopub.status.busy": "2022-10-27T08:07:11.422771Z",
     "iopub.status.idle": "2022-10-27T08:07:41.886295Z",
     "shell.execute_reply": "2022-10-27T08:07:41.885251Z"
    },
    "papermill": {
     "duration": 30.622996,
     "end_time": "2022-10-27T08:07:41.969144",
     "exception": false,
     "start_time": "2022-10-27T08:07:11.346148",
     "status": "completed"
    },
    "tags": []
   },
   "outputs": [
    {
     "data": {
      "text/plain": [
       "row_id    cell_id       gene_id        \n",
       "0         c2150f55becb  CD86              NaN\n",
       "1         c2150f55becb  CD274             NaN\n",
       "2         c2150f55becb  CD270             NaN\n",
       "3         c2150f55becb  CD155             NaN\n",
       "4         c2150f55becb  CD112             NaN\n",
       "                                           ..\n",
       "65744175  2c53aa67933d  ENSG00000134419   NaN\n",
       "65744176  2c53aa67933d  ENSG00000186862   NaN\n",
       "65744177  2c53aa67933d  ENSG00000170959   NaN\n",
       "65744178  2c53aa67933d  ENSG00000107874   NaN\n",
       "65744179  2c53aa67933d  ENSG00000166012   NaN\n",
       "Name: target, Length: 65744180, dtype: float32"
      ]
     },
     "execution_count": 22,
     "metadata": {},
     "output_type": "execute_result"
    }
   ],
   "source": [
    "# Prepare an empty series which will be filled with predictions\n",
    "submission = pd.Series(name='target',\n",
    "                       index=pd.MultiIndex.from_frame(eval_ids), \n",
    "                       dtype=np.float32)\n",
    "submission"
   ]
  },
  {
   "cell_type": "markdown",
   "id": "4139292e",
   "metadata": {
    "papermill": {
     "duration": 0.077314,
     "end_time": "2022-10-27T08:07:42.126304",
     "exception": false,
     "start_time": "2022-10-27T08:07:42.048990",
     "status": "completed"
    },
    "tags": []
   },
   "source": [
    "We load the `index`  and `columns` of the original dataframe, as we need them to make the submission."
   ]
  },
  {
   "cell_type": "code",
   "execution_count": 23,
   "id": "c220b032",
   "metadata": {
    "execution": {
     "iopub.execute_input": "2022-10-27T08:07:42.284675Z",
     "iopub.status.busy": "2022-10-27T08:07:42.284179Z",
     "iopub.status.idle": "2022-10-27T08:07:42.388061Z",
     "shell.execute_reply": "2022-10-27T08:07:42.386315Z"
    },
    "papermill": {
     "duration": 0.187038,
     "end_time": "2022-10-27T08:07:42.390925",
     "exception": false,
     "start_time": "2022-10-27T08:07:42.203887",
     "status": "completed"
    },
    "tags": []
   },
   "outputs": [
    {
     "name": "stdout",
     "output_type": "stream",
     "text": [
      "CPU times: user 40.7 ms, sys: 5.17 ms, total: 45.8 ms\n",
      "Wall time: 94.4 ms\n"
     ]
    }
   ],
   "source": [
    "%%time\n",
    "y_columns = np.load(\"../input/multimodal-single-cell-as-sparse-matrix/train_multi_targets_idxcol.npz\",\n",
    "                   allow_pickle=True)[\"columns\"]\n",
    "\n",
    "test_index = np.load(\"../input/multimodal-single-cell-as-sparse-matrix/test_multi_inputs_idxcol.npz\",\n",
    "                    allow_pickle=True)[\"index\"]"
   ]
  },
  {
   "cell_type": "markdown",
   "id": "0d442bbc",
   "metadata": {
    "papermill": {
     "duration": 0.074316,
     "end_time": "2022-10-27T08:07:42.547945",
     "exception": false,
     "start_time": "2022-10-27T08:07:42.473629",
     "status": "completed"
    },
    "tags": []
   },
   "source": [
    "We assign the predicted values to the correct row in the submission file."
   ]
  },
  {
   "cell_type": "code",
   "execution_count": 24,
   "id": "daa330a1",
   "metadata": {
    "execution": {
     "iopub.execute_input": "2022-10-27T08:07:42.698453Z",
     "iopub.status.busy": "2022-10-27T08:07:42.697982Z",
     "iopub.status.idle": "2022-10-27T08:07:42.732157Z",
     "shell.execute_reply": "2022-10-27T08:07:42.730841Z"
    },
    "papermill": {
     "duration": 0.112577,
     "end_time": "2022-10-27T08:07:42.735432",
     "exception": false,
     "start_time": "2022-10-27T08:07:42.622855",
     "status": "completed"
    },
    "tags": []
   },
   "outputs": [],
   "source": [
    "cell_dict = dict((k,v) for v,k in enumerate(test_index)) \n",
    "assert len(cell_dict)  == len(test_index)\n",
    "\n",
    "gene_dict = dict((k,v) for v,k in enumerate(y_columns))\n",
    "assert len(gene_dict) == len(y_columns)"
   ]
  },
  {
   "cell_type": "code",
   "execution_count": 25,
   "id": "146537f9",
   "metadata": {
    "execution": {
     "iopub.execute_input": "2022-10-27T08:07:42.893161Z",
     "iopub.status.busy": "2022-10-27T08:07:42.892679Z",
     "iopub.status.idle": "2022-10-27T08:07:45.256790Z",
     "shell.execute_reply": "2022-10-27T08:07:45.255450Z"
    },
    "papermill": {
     "duration": 2.447272,
     "end_time": "2022-10-27T08:07:45.259619",
     "exception": false,
     "start_time": "2022-10-27T08:07:42.812347",
     "status": "completed"
    },
    "tags": []
   },
   "outputs": [],
   "source": [
    "eval_ids_cell_num = eval_ids.cell_id.apply(lambda x:cell_dict.get(x, -1))\n",
    "eval_ids_gene_num = eval_ids.gene_id.apply(lambda x:gene_dict.get(x, -1))\n",
    "\n",
    "valid_multi_rows = (eval_ids_gene_num !=-1) & (eval_ids_cell_num!=-1)"
   ]
  },
  {
   "cell_type": "code",
   "execution_count": 26,
   "id": "263f8417",
   "metadata": {
    "execution": {
     "iopub.execute_input": "2022-10-27T08:07:45.411075Z",
     "iopub.status.busy": "2022-10-27T08:07:45.410172Z",
     "iopub.status.idle": "2022-10-27T08:07:48.247289Z",
     "shell.execute_reply": "2022-10-27T08:07:48.245559Z"
    },
    "papermill": {
     "duration": 2.916074,
     "end_time": "2022-10-27T08:07:48.250643",
     "exception": false,
     "start_time": "2022-10-27T08:07:45.334569",
     "status": "completed"
    },
    "tags": []
   },
   "outputs": [],
   "source": [
    "submission.iloc[valid_multi_rows] = preds[eval_ids_cell_num[valid_multi_rows].to_numpy(),\n",
    "eval_ids_gene_num[valid_multi_rows].to_numpy()]"
   ]
  },
  {
   "cell_type": "code",
   "execution_count": 27,
   "id": "0590b09e",
   "metadata": {
    "execution": {
     "iopub.execute_input": "2022-10-27T08:07:48.404075Z",
     "iopub.status.busy": "2022-10-27T08:07:48.401991Z",
     "iopub.status.idle": "2022-10-27T08:07:48.564876Z",
     "shell.execute_reply": "2022-10-27T08:07:48.563439Z"
    },
    "papermill": {
     "duration": 0.242467,
     "end_time": "2022-10-27T08:07:48.568244",
     "exception": false,
     "start_time": "2022-10-27T08:07:48.325777",
     "status": "completed"
    },
    "tags": []
   },
   "outputs": [
    {
     "data": {
      "text/plain": [
       "134"
      ]
     },
     "execution_count": 27,
     "metadata": {},
     "output_type": "execute_result"
    }
   ],
   "source": [
    "del eval_ids_cell_num, eval_ids_gene_num, valid_multi_rows, eval_ids, test_index, y_columns\n",
    "gc.collect()"
   ]
  },
  {
   "cell_type": "code",
   "execution_count": 28,
   "id": "ed760c82",
   "metadata": {
    "execution": {
     "iopub.execute_input": "2022-10-27T08:07:48.719628Z",
     "iopub.status.busy": "2022-10-27T08:07:48.717979Z",
     "iopub.status.idle": "2022-10-27T08:07:48.731405Z",
     "shell.execute_reply": "2022-10-27T08:07:48.729932Z"
    },
    "papermill": {
     "duration": 0.091667,
     "end_time": "2022-10-27T08:07:48.734063",
     "exception": false,
     "start_time": "2022-10-27T08:07:48.642396",
     "status": "completed"
    },
    "tags": []
   },
   "outputs": [
    {
     "data": {
      "text/plain": [
       "row_id    cell_id       gene_id        \n",
       "0         c2150f55becb  CD86                    NaN\n",
       "1         c2150f55becb  CD274                   NaN\n",
       "2         c2150f55becb  CD270                   NaN\n",
       "3         c2150f55becb  CD155                   NaN\n",
       "4         c2150f55becb  CD112                   NaN\n",
       "                                             ...   \n",
       "65744175  2c53aa67933d  ENSG00000134419    6.195312\n",
       "65744176  2c53aa67933d  ENSG00000186862    0.032776\n",
       "65744177  2c53aa67933d  ENSG00000170959    0.044586\n",
       "65744178  2c53aa67933d  ENSG00000107874    1.187500\n",
       "65744179  2c53aa67933d  ENSG00000166012    5.132812\n",
       "Name: target, Length: 65744180, dtype: float32"
      ]
     },
     "execution_count": 28,
     "metadata": {},
     "output_type": "execute_result"
    }
   ],
   "source": [
    "submission"
   ]
  },
  {
   "cell_type": "markdown",
   "id": "d7fb8f5f",
   "metadata": {
    "papermill": {
     "duration": 0.075702,
     "end_time": "2022-10-27T08:07:48.883533",
     "exception": false,
     "start_time": "2022-10-27T08:07:48.807831",
     "status": "completed"
    },
    "tags": []
   },
   "source": [
    "# Merging with CITEseq predictions\n",
    "\n",
    "We use the CITEseq predictions from [this notebook](https://www.kaggle.com/code/vuonglam/lgbm-baseline-optuna-drop-constant-cite-task) by VuongLam."
   ]
  },
  {
   "cell_type": "code",
   "execution_count": 29,
   "id": "61529975",
   "metadata": {
    "execution": {
     "iopub.execute_input": "2022-10-27T08:07:49.034400Z",
     "iopub.status.busy": "2022-10-27T08:07:49.033554Z",
     "iopub.status.idle": "2022-10-27T08:07:49.259213Z",
     "shell.execute_reply": "2022-10-27T08:07:49.257857Z"
    },
    "papermill": {
     "duration": 0.304306,
     "end_time": "2022-10-27T08:07:49.262337",
     "exception": false,
     "start_time": "2022-10-27T08:07:48.958031",
     "status": "completed"
    },
    "tags": []
   },
   "outputs": [],
   "source": [
    "submission.reset_index(drop=True, inplace=True)\n",
    "submission.index.name = 'row_id'"
   ]
  },
  {
   "cell_type": "code",
   "execution_count": 30,
   "id": "12612070",
   "metadata": {
    "execution": {
     "iopub.execute_input": "2022-10-27T08:07:49.414207Z",
     "iopub.status.busy": "2022-10-27T08:07:49.413296Z",
     "iopub.status.idle": "2022-10-27T08:08:22.625361Z",
     "shell.execute_reply": "2022-10-27T08:08:22.623971Z"
    },
    "papermill": {
     "duration": 33.29212,
     "end_time": "2022-10-27T08:08:22.628739",
     "exception": false,
     "start_time": "2022-10-27T08:07:49.336619",
     "status": "completed"
    },
    "tags": []
   },
   "outputs": [],
   "source": [
    "cite_submission = pd.read_csv(\"../input/msci-citeseq-keras-quickstart/submission.csv\")\n",
    "cite_submission = cite_submission.set_index(\"row_id\")\n",
    "cite_submission = cite_submission[\"target\"]"
   ]
  },
  {
   "cell_type": "code",
   "execution_count": 31,
   "id": "8db124fc",
   "metadata": {
    "execution": {
     "iopub.execute_input": "2022-10-27T08:08:22.781759Z",
     "iopub.status.busy": "2022-10-27T08:08:22.781312Z",
     "iopub.status.idle": "2022-10-27T08:08:24.915495Z",
     "shell.execute_reply": "2022-10-27T08:08:24.914161Z"
    },
    "papermill": {
     "duration": 2.212899,
     "end_time": "2022-10-27T08:08:24.918508",
     "exception": false,
     "start_time": "2022-10-27T08:08:22.705609",
     "status": "completed"
    },
    "tags": []
   },
   "outputs": [],
   "source": [
    "submission[submission.isnull()] = cite_submission[submission.isnull()]"
   ]
  },
  {
   "cell_type": "code",
   "execution_count": 32,
   "id": "1db790e3",
   "metadata": {
    "execution": {
     "iopub.execute_input": "2022-10-27T08:08:25.071731Z",
     "iopub.status.busy": "2022-10-27T08:08:25.070480Z",
     "iopub.status.idle": "2022-10-27T08:08:25.082096Z",
     "shell.execute_reply": "2022-10-27T08:08:25.080906Z"
    },
    "papermill": {
     "duration": 0.092096,
     "end_time": "2022-10-27T08:08:25.084923",
     "exception": false,
     "start_time": "2022-10-27T08:08:24.992827",
     "status": "completed"
    },
    "tags": []
   },
   "outputs": [
    {
     "data": {
      "text/plain": [
       "row_id\n",
       "0           0.094605\n",
       "1          -0.162362\n",
       "2          -0.405332\n",
       "3          -0.302582\n",
       "4           1.114355\n",
       "              ...   \n",
       "65744175    6.195312\n",
       "65744176    0.032776\n",
       "65744177    0.044586\n",
       "65744178    1.187500\n",
       "65744179    5.132812\n",
       "Name: target, Length: 65744180, dtype: float32"
      ]
     },
     "execution_count": 32,
     "metadata": {},
     "output_type": "execute_result"
    }
   ],
   "source": [
    "submission"
   ]
  },
  {
   "cell_type": "code",
   "execution_count": 33,
   "id": "5192f269",
   "metadata": {
    "execution": {
     "iopub.execute_input": "2022-10-27T08:08:25.239208Z",
     "iopub.status.busy": "2022-10-27T08:08:25.238039Z",
     "iopub.status.idle": "2022-10-27T08:08:25.247599Z",
     "shell.execute_reply": "2022-10-27T08:08:25.246314Z"
    },
    "papermill": {
     "duration": 0.088656,
     "end_time": "2022-10-27T08:08:25.250375",
     "exception": false,
     "start_time": "2022-10-27T08:08:25.161719",
     "status": "completed"
    },
    "tags": []
   },
   "outputs": [
    {
     "data": {
      "text/plain": [
       "row_id\n",
       "0           0.094605\n",
       "1          -0.162362\n",
       "2          -0.405332\n",
       "3          -0.302582\n",
       "4           1.114355\n",
       "              ...   \n",
       "65744175    6.195312\n",
       "65744176    0.032776\n",
       "65744177    0.044586\n",
       "65744178    1.187500\n",
       "65744179    5.132812\n",
       "Name: target, Length: 65744180, dtype: float32"
      ]
     },
     "execution_count": 33,
     "metadata": {},
     "output_type": "execute_result"
    }
   ],
   "source": [
    "submission"
   ]
  },
  {
   "cell_type": "code",
   "execution_count": 34,
   "id": "58646f7d",
   "metadata": {
    "execution": {
     "iopub.execute_input": "2022-10-27T08:08:25.402013Z",
     "iopub.status.busy": "2022-10-27T08:08:25.401588Z",
     "iopub.status.idle": "2022-10-27T08:08:25.461063Z",
     "shell.execute_reply": "2022-10-27T08:08:25.459825Z"
    },
    "papermill": {
     "duration": 0.139085,
     "end_time": "2022-10-27T08:08:25.463907",
     "exception": false,
     "start_time": "2022-10-27T08:08:25.324822",
     "status": "completed"
    },
    "tags": []
   },
   "outputs": [
    {
     "data": {
      "text/plain": [
       "False"
      ]
     },
     "execution_count": 34,
     "metadata": {},
     "output_type": "execute_result"
    }
   ],
   "source": [
    "submission.isnull().any()"
   ]
  },
  {
   "cell_type": "code",
   "execution_count": 35,
   "id": "8486a798",
   "metadata": {
    "execution": {
     "iopub.execute_input": "2022-10-27T08:08:25.615937Z",
     "iopub.status.busy": "2022-10-27T08:08:25.615488Z",
     "iopub.status.idle": "2022-10-27T08:10:38.616271Z",
     "shell.execute_reply": "2022-10-27T08:10:38.614741Z"
    },
    "papermill": {
     "duration": 133.080953,
     "end_time": "2022-10-27T08:10:38.619629",
     "exception": false,
     "start_time": "2022-10-27T08:08:25.538676",
     "status": "completed"
    },
    "tags": []
   },
   "outputs": [],
   "source": [
    "submission.to_csv(\"submission.csv\")"
   ]
  },
  {
   "cell_type": "code",
   "execution_count": 36,
   "id": "1dd1b1b9",
   "metadata": {
    "execution": {
     "iopub.execute_input": "2022-10-27T08:10:38.773097Z",
     "iopub.status.busy": "2022-10-27T08:10:38.772655Z",
     "iopub.status.idle": "2022-10-27T08:10:40.094429Z",
     "shell.execute_reply": "2022-10-27T08:10:40.092596Z"
    },
    "papermill": {
     "duration": 1.401758,
     "end_time": "2022-10-27T08:10:40.097690",
     "exception": false,
     "start_time": "2022-10-27T08:10:38.695932",
     "status": "completed"
    },
    "tags": []
   },
   "outputs": [
    {
     "name": "stdout",
     "output_type": "stream",
     "text": [
      "row_id,target\r\n",
      "0,0.09460453\r\n",
      "1,-0.16236241\r\n",
      "2,-0.40533188\r\n",
      "3,-0.30258211\r\n",
      "4,1.1143554\r\n",
      "5,2.5725958\r\n",
      "6,0.24209185\r\n",
      "7,-0.799001\r\n",
      "8,-0.676689\r\n"
     ]
    }
   ],
   "source": [
    "!head submission.csv"
   ]
  },
  {
   "cell_type": "code",
   "execution_count": 37,
   "id": "d1c4daa5",
   "metadata": {
    "execution": {
     "iopub.execute_input": "2022-10-27T08:10:40.252161Z",
     "iopub.status.busy": "2022-10-27T08:10:40.251719Z",
     "iopub.status.idle": "2022-10-27T08:10:41.499273Z",
     "shell.execute_reply": "2022-10-27T08:10:41.497582Z"
    },
    "papermill": {
     "duration": 1.32896,
     "end_time": "2022-10-27T08:10:41.502286",
     "exception": false,
     "start_time": "2022-10-27T08:10:40.173326",
     "status": "completed"
    },
    "tags": []
   },
   "outputs": [
    {
     "name": "stdout",
     "output_type": "stream",
     "text": [
      "row_id,target\r\n",
      "0,0.09460453\r\n",
      "1,-0.16236241\r\n",
      "2,-0.40533188\r\n",
      "3,-0.30258211\r\n",
      "4,1.1143554\r\n",
      "5,2.5725958\r\n",
      "6,0.24209185\r\n",
      "7,-0.799001\r\n",
      "8,-0.676689\r\n"
     ]
    }
   ],
   "source": [
    "!head submission.csv"
   ]
  },
  {
   "cell_type": "code",
   "execution_count": null,
   "id": "af936148",
   "metadata": {
    "papermill": {
     "duration": 0.075582,
     "end_time": "2022-10-27T08:10:41.653200",
     "exception": false,
     "start_time": "2022-10-27T08:10:41.577618",
     "status": "completed"
    },
    "tags": []
   },
   "outputs": [],
   "source": []
  }
 ],
 "metadata": {
  "kernelspec": {
   "display_name": "Python 3",
   "language": "python",
   "name": "python3"
  },
  "language_info": {
   "codemirror_mode": {
    "name": "ipython",
    "version": 3
   },
   "file_extension": ".py",
   "mimetype": "text/x-python",
   "name": "python",
   "nbconvert_exporter": "python",
   "pygments_lexer": "ipython3",
   "version": "3.7.12"
  },
  "papermill": {
   "default_parameters": {},
   "duration": 22660.048999,
   "end_time": "2022-10-27T08:10:43.408263",
   "environment_variables": {},
   "exception": null,
   "input_path": "__notebook__.ipynb",
   "output_path": "__notebook__.ipynb",
   "parameters": {},
   "start_time": "2022-10-27T01:53:03.359264",
   "version": "2.3.4"
  }
 },
 "nbformat": 4,
 "nbformat_minor": 5
}
